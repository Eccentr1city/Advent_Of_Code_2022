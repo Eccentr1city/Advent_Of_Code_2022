{
  "nbformat": 4,
  "nbformat_minor": 0,
  "metadata": {
    "colab": {
      "provenance": [],
      "authorship_tag": "ABX9TyMELZ7P3cfS3dt7Yh4tPQ+j",
      "include_colab_link": true
    },
    "kernelspec": {
      "name": "python3",
      "display_name": "Python 3"
    },
    "language_info": {
      "name": "python"
    }
  },
  "cells": [
    {
      "cell_type": "markdown",
      "metadata": {
        "id": "view-in-github",
        "colab_type": "text"
      },
      "source": [
        "<a href=\"https://colab.research.google.com/github/Eccentr1city/Advent_Of_Code_2022/blob/main/AoC_Day_3.ipynb\" target=\"_parent\"><img src=\"https://colab.research.google.com/assets/colab-badge.svg\" alt=\"Open In Colab\"/></a>"
      ]
    },
    {
      "cell_type": "code",
      "execution_count": null,
      "metadata": {
        "colab": {
          "base_uri": "https://localhost:8080/",
          "height": 73
        },
        "id": "8dlRrm5sSqpo",
        "outputId": "f08369bf-190c-4683-f534-d1ed87c468a4"
      },
      "outputs": [
        {
          "output_type": "display_data",
          "data": {
            "text/plain": [
              "<IPython.core.display.HTML object>"
            ],
            "text/html": [
              "\n",
              "     <input type=\"file\" id=\"files-bfb02782-e606-4db5-9a0e-778d4b8a3f07\" name=\"files[]\" multiple disabled\n",
              "        style=\"border:none\" />\n",
              "     <output id=\"result-bfb02782-e606-4db5-9a0e-778d4b8a3f07\">\n",
              "      Upload widget is only available when the cell has been executed in the\n",
              "      current browser session. Please rerun this cell to enable.\n",
              "      </output>\n",
              "      <script>// Copyright 2017 Google LLC\n",
              "//\n",
              "// Licensed under the Apache License, Version 2.0 (the \"License\");\n",
              "// you may not use this file except in compliance with the License.\n",
              "// You may obtain a copy of the License at\n",
              "//\n",
              "//      http://www.apache.org/licenses/LICENSE-2.0\n",
              "//\n",
              "// Unless required by applicable law or agreed to in writing, software\n",
              "// distributed under the License is distributed on an \"AS IS\" BASIS,\n",
              "// WITHOUT WARRANTIES OR CONDITIONS OF ANY KIND, either express or implied.\n",
              "// See the License for the specific language governing permissions and\n",
              "// limitations under the License.\n",
              "\n",
              "/**\n",
              " * @fileoverview Helpers for google.colab Python module.\n",
              " */\n",
              "(function(scope) {\n",
              "function span(text, styleAttributes = {}) {\n",
              "  const element = document.createElement('span');\n",
              "  element.textContent = text;\n",
              "  for (const key of Object.keys(styleAttributes)) {\n",
              "    element.style[key] = styleAttributes[key];\n",
              "  }\n",
              "  return element;\n",
              "}\n",
              "\n",
              "// Max number of bytes which will be uploaded at a time.\n",
              "const MAX_PAYLOAD_SIZE = 100 * 1024;\n",
              "\n",
              "function _uploadFiles(inputId, outputId) {\n",
              "  const steps = uploadFilesStep(inputId, outputId);\n",
              "  const outputElement = document.getElementById(outputId);\n",
              "  // Cache steps on the outputElement to make it available for the next call\n",
              "  // to uploadFilesContinue from Python.\n",
              "  outputElement.steps = steps;\n",
              "\n",
              "  return _uploadFilesContinue(outputId);\n",
              "}\n",
              "\n",
              "// This is roughly an async generator (not supported in the browser yet),\n",
              "// where there are multiple asynchronous steps and the Python side is going\n",
              "// to poll for completion of each step.\n",
              "// This uses a Promise to block the python side on completion of each step,\n",
              "// then passes the result of the previous step as the input to the next step.\n",
              "function _uploadFilesContinue(outputId) {\n",
              "  const outputElement = document.getElementById(outputId);\n",
              "  const steps = outputElement.steps;\n",
              "\n",
              "  const next = steps.next(outputElement.lastPromiseValue);\n",
              "  return Promise.resolve(next.value.promise).then((value) => {\n",
              "    // Cache the last promise value to make it available to the next\n",
              "    // step of the generator.\n",
              "    outputElement.lastPromiseValue = value;\n",
              "    return next.value.response;\n",
              "  });\n",
              "}\n",
              "\n",
              "/**\n",
              " * Generator function which is called between each async step of the upload\n",
              " * process.\n",
              " * @param {string} inputId Element ID of the input file picker element.\n",
              " * @param {string} outputId Element ID of the output display.\n",
              " * @return {!Iterable<!Object>} Iterable of next steps.\n",
              " */\n",
              "function* uploadFilesStep(inputId, outputId) {\n",
              "  const inputElement = document.getElementById(inputId);\n",
              "  inputElement.disabled = false;\n",
              "\n",
              "  const outputElement = document.getElementById(outputId);\n",
              "  outputElement.innerHTML = '';\n",
              "\n",
              "  const pickedPromise = new Promise((resolve) => {\n",
              "    inputElement.addEventListener('change', (e) => {\n",
              "      resolve(e.target.files);\n",
              "    });\n",
              "  });\n",
              "\n",
              "  const cancel = document.createElement('button');\n",
              "  inputElement.parentElement.appendChild(cancel);\n",
              "  cancel.textContent = 'Cancel upload';\n",
              "  const cancelPromise = new Promise((resolve) => {\n",
              "    cancel.onclick = () => {\n",
              "      resolve(null);\n",
              "    };\n",
              "  });\n",
              "\n",
              "  // Wait for the user to pick the files.\n",
              "  const files = yield {\n",
              "    promise: Promise.race([pickedPromise, cancelPromise]),\n",
              "    response: {\n",
              "      action: 'starting',\n",
              "    }\n",
              "  };\n",
              "\n",
              "  cancel.remove();\n",
              "\n",
              "  // Disable the input element since further picks are not allowed.\n",
              "  inputElement.disabled = true;\n",
              "\n",
              "  if (!files) {\n",
              "    return {\n",
              "      response: {\n",
              "        action: 'complete',\n",
              "      }\n",
              "    };\n",
              "  }\n",
              "\n",
              "  for (const file of files) {\n",
              "    const li = document.createElement('li');\n",
              "    li.append(span(file.name, {fontWeight: 'bold'}));\n",
              "    li.append(span(\n",
              "        `(${file.type || 'n/a'}) - ${file.size} bytes, ` +\n",
              "        `last modified: ${\n",
              "            file.lastModifiedDate ? file.lastModifiedDate.toLocaleDateString() :\n",
              "                                    'n/a'} - `));\n",
              "    const percent = span('0% done');\n",
              "    li.appendChild(percent);\n",
              "\n",
              "    outputElement.appendChild(li);\n",
              "\n",
              "    const fileDataPromise = new Promise((resolve) => {\n",
              "      const reader = new FileReader();\n",
              "      reader.onload = (e) => {\n",
              "        resolve(e.target.result);\n",
              "      };\n",
              "      reader.readAsArrayBuffer(file);\n",
              "    });\n",
              "    // Wait for the data to be ready.\n",
              "    let fileData = yield {\n",
              "      promise: fileDataPromise,\n",
              "      response: {\n",
              "        action: 'continue',\n",
              "      }\n",
              "    };\n",
              "\n",
              "    // Use a chunked sending to avoid message size limits. See b/62115660.\n",
              "    let position = 0;\n",
              "    do {\n",
              "      const length = Math.min(fileData.byteLength - position, MAX_PAYLOAD_SIZE);\n",
              "      const chunk = new Uint8Array(fileData, position, length);\n",
              "      position += length;\n",
              "\n",
              "      const base64 = btoa(String.fromCharCode.apply(null, chunk));\n",
              "      yield {\n",
              "        response: {\n",
              "          action: 'append',\n",
              "          file: file.name,\n",
              "          data: base64,\n",
              "        },\n",
              "      };\n",
              "\n",
              "      let percentDone = fileData.byteLength === 0 ?\n",
              "          100 :\n",
              "          Math.round((position / fileData.byteLength) * 100);\n",
              "      percent.textContent = `${percentDone}% done`;\n",
              "\n",
              "    } while (position < fileData.byteLength);\n",
              "  }\n",
              "\n",
              "  // All done.\n",
              "  yield {\n",
              "    response: {\n",
              "      action: 'complete',\n",
              "    }\n",
              "  };\n",
              "}\n",
              "\n",
              "scope.google = scope.google || {};\n",
              "scope.google.colab = scope.google.colab || {};\n",
              "scope.google.colab._files = {\n",
              "  _uploadFiles,\n",
              "  _uploadFilesContinue,\n",
              "};\n",
              "})(self);\n",
              "</script> "
            ]
          },
          "metadata": {}
        },
        {
          "output_type": "stream",
          "name": "stdout",
          "text": [
            "Saving input3.txt to input3.txt\n"
          ]
        }
      ],
      "source": [
        "import numpy as np\n",
        "from google.colab import files\n",
        "input = files.upload()"
      ]
    },
    {
      "cell_type": "code",
      "source": [
        "# Read input file and convert to list of rucksacks\n",
        "file = open(\"input3.txt\", \"r\")\n",
        "packs = file.read().splitlines()\n",
        "print(packs)"
      ],
      "metadata": {
        "colab": {
          "base_uri": "https://localhost:8080/"
        },
        "id": "wm0LTa4ISt3P",
        "outputId": "61a85f96-b4f2-43b8-aea3-9f8076caf543"
      },
      "execution_count": null,
      "outputs": [
        {
          "output_type": "stream",
          "name": "stdout",
          "text": [
            "['LHLRlCCvCLVgHPfCHtVjBGrBDNzWFBsBGBfscGsD', 'nQwbnwwpbrJBrNWB', 'hmnSdSdQpTpdnlPdvddPNglLjH', 'RZhwpDsNqVmQClwl', 'TLJfLTPqcvTrvvLMLMlVzzvVVQQtmQCmtzmV', 'MJjccdfTMcbqjNSRSZsSDZ', 'LLrNNqCTCwLTttwcNctqFGmRBSBjzjbSzbBbjNbzjB', 'GnhhZQPDGdldgQmQSjpzjzQssb', 'gDJZPMnPnhlhJWhZntLCLcTqVMLrGVtMfM', 'rrBgDBGnVnffDnfQQqngJhhSRQvhhCRRRSZbRpRzwQ', 'NtLmcHPHMHHssFJphZpbhwpNRbbC', 'LJPHlmdJDgrrqrnl', 'nJhrcNnfrFwNhPdMQSgZSCMjQn', 'LjqGWsGWllRRlHVsqGGWsZZSSHQgPmHZZSPvdPCmvQ', 'zqqVTWjqBsTJprNbppFb', 'zSMgWzlgFSWFcGZlCZGlrrTc', 'spnQHdQmHddNmpWrpWcChccTWc', 'BsRsnmBQdNWsvRPzbzbLzDVSPSbVLM', 'lDfbffptlrJZTBJHjjBWjT', 'LcwwgQLgzvztwtMQGCMVCHWmnmjWnGhFHnZjmZhjhT', 'sCqtzsswCgccbSqrDSqbNNfN', 'snnnjwRRwGSSnVmhhVMhGFbgQgbzFFPPgQQmPbbgQd', 'qCrccvcDDcvqDZlCcrcfQNQFdsbgWzFfQddQQPgQ', 'ZcrvrBqBTCZnBBswjwpSRs', 'qSczBfBcjMZMfctsmsGmFJsmQQcQCr', 'wPhTLNVNGLNdGHPHwlQsnrnmnrQvHFFHQn', 'dLdwbNLRdgGbgTjZfDbqDWjftSzW', 'rZwlrtRtNtlHqVBtdqQgdq', 'fbwzpPwbhJzpwfTSHgdgqcJVcBjHvHdJ', 'LLPbhzPpTTbTshfGhPwSFWnNmMrrZZmNmZDmWNCCZs', 'tMHgMWMQWgFJTHsWMvJrVdlmvlSvdvlpvG', 'RNfZZfRttBtdlZlmmmplSS', 'DzzNDDRwnwwbLnMFtsMntQFM', 'qHqBMNqgMwHMbnGStHSbndnt', 'PwWZPjpfsDsDsPfPfjdbSvbWhdFSbFGSWFtr', 'wfpjpJcfVsspzZRRszDpwcRggLTQQBLqNqcqcggLCgNmlq', 'TmmFjtvFdDGjdFFJjFRDLNLHGBVcqgLcLgVBLqgV', 'WbWSPSwQCWrWQSrCbwNVlLlBZLBvLlvZVqPl', 'SfwbhrwQQbbMwCwWCrbwJRvptJfjDTDRvzTttRjp', 'jzqSMszqsbVVMVMgWhWCgMrpGgpB', 'wrwLcFQmPlFFlwLZmFGTfPvWGfPvhWWWvGgf', 'wRZtHFHmzNDHSqrs', 'NprlCgrrnrNCjplSCtljpFrFZLzzgwmVgBzBZZPwzBPQBwVL', 'HsDMvHTDfsfQZfZzmPWL', 'JcPsDGTqcTqSdrSCtnCt', 'cFcmfmJFtFmtlTNtLlCWTT', 'QPQzjRRsVsQqBqwlTlNBpLNSWDpN', 'QblgzRPgbgQsVvgPVQhgQqjvMnJfccnZddcGGfrFJMFGGF', 'PWbWmFFnPFPWbDVVmmDHDFGdGhTQdLdnTZQZZcGSGGdQ', 'ClzjNBlBJvlsBdcPLZdLPQjLQZ', 'vJMBpBzzzfNCCzCffJlzgMWDWwPDtVtmVHPMwVHD', 'bJjWzWFlTMjjSNBrRcBrZR', 'mwnwqPwnGQPCqmJmPQJPCVNcRZBRRrrNrmrcVpSrRf', 'PGvQQGPqvhWFWlJbDv', 'PNPrdmPGRJlZCrCJlGQzjRFLpFRppjgppgcj', 'DwfVnssbVnSWShDwsnnhBLFjFgjFBzDBjHDLpHDj', 'vSsMgbsTfTwwfMffnTvgNNCmrPJtCNrJrCrrtvGm', 'cRnRplCzccVcrwcnppVVzRCNhfhgChNJfPgHJdHDNtNCtP', 'WFmbLMZdLBqfJNbPTfttDD', 'BdMWdQsGsSsrpzrswr', 'llhhZzSLqlzwRrffzwzT', 'GvBbNjHbjjTGGHHFcsFvfRrtJQPvtRfwwfrPJD', 'HGbcbTTjHFNpppmLnSdplWqZ', 'FhwFbPwsvtRgVCgvMT', 'HJVHdHBWdBQSSSQnqSQLqZHtcCctppgBtRrgtMCgTprRMM', 'QNzZLVSLLLDGPPzPmbFs', 'VdTHmWCVZDTPBBWBQBFQQg', 'MzjMjzCjJsbJhhPz', 'crfGGLwwLGrtrvCtdTmdDH', 'wRLvLmGQLwFPBRmnLCLmGQTzNNqVNZMMVzzQbzVbNZpMVb', 'jsgJWjdHghsglHtWsjSfHzVNqzfpCCzqDpzDrVVrrD', 'jJtWWsWhtSHsSSgchthHcjHCvcFCRvwvvTTFBGvBmmGLnL', 'LpjWLNqWpwRWMqLRGjwJlStgbtrVgHFrGllDDrVH', 'SQmmTcZZvSZBTmTSzhPTddbVDhHllgFCDHtrDHgDVVDr', 'PzTTvznBncnfTmTTQcPdmzzMqWNfqwRLpWJsNfwLJjsSwJ', 'lsGdGwBsflGrfsHvHwQLdFrmPhDhCFhhjWCVmhDzmbmPhC', 'qtMSNNZZMpcnVzmVbCqjWjzB', 'ZZcgRJpBtTMNnntncwgQQdfGHHHlsQffLH', 'jBBtjjqfnwStBSrVVFwSVVvvWzHmcWvWbvPmPbWrbMRM', 'GTdNDlpJhlCvPbHgcDmgDH', 'JZQdQhNldLdTpGdJGdNCpLZdSBnnBFfHHswqqjffZsqsFjns', 'phJhDPQLDSJvpHhvDJhfrFQVRrnsslrgwrVrrRjg', 'mWNWqZWWZBMdCGMNCdWmWCNCsnVFTRsVnZFlsrlFwFgVsgjr', 'dWdjttGmNCBchJfhHvhPtvJt', 'CSFSFdfCzJhtSCHQFjQHQWFHRNHG', 'wnbrgZnwZgDLsLbwsLrsrNWQNjPZHHvPPQHNqHHvqB', 'LbmTLDsgggQmzmCCppdtSJtM', 'SzSSchCdZgHbwHSZ', 'GsMMmslnsfmNGNNNVVtZWdwbqQbpgWjjgWZjQm', 'DvlMtflGGVGthhzdvLvhrTcc', 'dvfVNqHlQfGRcjDczlCDnC', 'PsPsStLprtTTFSTLmhSVSFSsCzRRjzDnMJDCMWWDjMnMnpjW', 'hBFPhSBFttBhStLwmsPTtPsFHZNGfQgdgdZbdqZwdgNVvwvH', 'rhjcChdgjdCrjLjLLSLmLFMmFtNnnbQNNNPMbbmtQF', 'lwWRZDlsWzrbbQpN', 'rTRqsqDRRRsDRVrqDgBCdCVShjCBHchjdh', 'PsspltlPsmTsmbmfTPSTTCGjhJJjCnpqJJNhhJwNJh', 'BdrLVvgQLQVLHRZGnqRhRNdwNC', 'WrFVHDgDQFHVLVVDFQMLltmPsssPztwsPTzsWcmc', 'CBvvSzFGSGGWfFZpcHqjvjcvcqccJq', 'bRQwgbbhrRhdwmQbWtdjnJHqVJccJqgHVJHJcl', 'RRmbPrNRRPLLtmbQmbNwddCTSTzBSDBDSMFTBSSPZFFW', 'cppsSgNrSgwrGRdHRrwd', 'LzqqmCLCLWQvCzmzZwHnZZHSwvwnlDlS', 'hzFqFLLLFtSNVsFF', 'zpZcZZZdppzDLWDtJGgfGbTGGJTGcc', 'qhvNSClCShRrRBBWTQfgBFbgtfgg', 'HlHqvjqmCvCvlSSHvVdsVDzjpVjMWdwLpP', 'qLdsfNsTHQwnSNSBNS', 'gFhWzrhfbmlpmZhJWrFSvRMnwwvvpBpBSpQBMv', 'rgWZrbmlmbzFfglgWzGggFJLccVPqLPqtPLGcPsPHcPLTd', 'jTTWRCCbwJJNTHrffqNnzh', 'DZVmDpgGBVdcMZnqfhlNHQMlNNhl', 'sDcpsDZBcmgdssZcnmSWCPWRSRwJWwvFLvRwWj', 'hWwhgQlQQgjPhFChZVdbcJ', 'zHsrMPNMtDDTmbcJbccmDb', 'znzPzrtHtHtMzqHHrsSSLwljqfgwGggjlQjQQgQBGj', 'JpnRtqlJsqDJJBBNNmQmgdmRNGGmvv', 'hTCbTwMCwVhTWdmDgDvjWD', 'MDhhMSwZCbbLVhbLcDSwCwZtZznlzlnqBPBpHPPlBlHJ', 'CtvnvqNNDchrhFVpwftmgQgpQfwS', 'MbdqPWGjBjMBbwlfVgdmfSfJJS', 'jWzbzjWWjWMMbRbMsjzBhChrNHcNqHcrNnhssnsc', 'LlLJSWgWllSShRmRlBLJSVBzpTHzTTJcpTHzpTTcPpGpTr', 'MfMqnvbvDfbFFZDfFNjsGrRppHpZGGcGrcPprz', 'wfNFvtwMvbnntftjfNtVmlgmStBmlBWdQQRg', 'GpFRRPGWqzHwdqpzqbjjgfZptBBVMSjSfBZc', 'TClllrnsJvDMBgcjfmtssB', 'NlhNNchrNJlLvClNDrzbGRqwqqqwqPPFLGdd', 'qFmVtvmmVvzzFtzzGzzMNNMSSTjNJlStjSfNgf', 'sWrPBCnCTMsTJfSM', 'QTLbpnRpRppnRQdRzRZqGzFFVVRz', 'WGGPjFvMVNjlcQJr', 'bslfldbgtpSmwmSNHQhLJhcwLcQrQV', 'gTltCsSsssPFnDzWPTMz', 'hhRRhQgGrHjhRsrgqznbzncZjVVJVjncjd', 'DSFfNTBFSDmMSTDlFbBBdccCdJJZCbZCbW', 'DDLmdSmTvQQgsgvGHH', 'dNqNgNvFnvdZHFWnZWNBTQlPTppPGlCTpBQppq', 'LJrtLrsLjsGvTCTpQP', 'mtLhjVjMhhmVMvtJmLfhFWHnngbRRdZHngnZWZ', 'NzdVNzqqCtCHMMZBCGBW', 'psjllRjFpjpbjspFmWmWnLBmMMQMmHbm', 'DhsTPDRTDHpsvRjdNtzJJJdhqwcdqc', 'VbhRbZgRHMFhQpHd', 'fvlqPzmzJJqJSPsWmPTNddNFHbNFGHNTHSbc', 'CqzlfqrCnbrBZjBr', 'SNSrDZFHnTqFsFddsCmsMC', 'ctVthlGjfhGljcCJmcqMCqcqBB', 'VtjvtjhhPPtWqVPLjvqjLVNRppRTvNSnbnZRZTHRnpTD', 'fzsBSsNBMNMszNGGJvgjjPggzjdFPgpJ', 'bmrVVVrmRrrvRmwvqlbHTDgwdLFjQPJPFddwJPFggj', 'HHHrZqhqbTMcZBCZfvcN', 'tzsJsnsmBzlVqjssZZrg', 'MQZHfNCffpMfpGSpPvpfCGCTTVwFTlwrggjSgqFjVjTwwg', 'NfMGGGPZpvLDvLCGGfQHMpZRDRWchRRtBBzmJnmzmnBznb', 'BSRBjtNjZrsjRjjNsVBjbrMwCgGCCwCdHrlcdccGcH', 'DJTTJLpFnFLdJJqPLTWqLTpwHzCGccCzvvcHwMvWzggCMC', 'PmpTTdndmmLqfLTTLDqJVBssbbStVmjjSsZNsBZm', 'ddCnZvCDSgghFhbbmFVQ', 'JzlMcJTMMPPfJJfsMsjWlHVhLbQVlFWmHbbb', 'BPwwsPfsqszfFqppwTsqzpntDSnCBnDRZrSZdnDdtvZD', 'SllzzPplWldwLGlzbtPZZjVScnnNSjnNsqNqsc', 'BrCfFDJFDHBhJCChQFhCCBDcTnNVpZZcNcvQTcjvvcTcZV', 'RCmFHJDJhCmBmRCgDCFRpmGbWWbLPlbMWzzGttzgLMbt', 'vGTfsZnfvfzTjsnfzTJlwqQjwmCqqMFjFFQMlq', 'LHtHRVLRLNtWcmVbRrPbRcwgQwgwMwClwClwrgFpwqpw', 'VDPtbVLBmLbLbDDNnnnzJJfJfBfvSGBn', 'lpPCRVVQppzHlZgzglgF', 'rtfttLdLdscmGtzngPHHFHFH', 'LPLLhfhbTDLmPdcrcWdTcDSjjRqwwbqpRwNBNpBwjQwR', 'dWQfCJrwvQCfFqNwRbbzVbVVLGTR', 'ZpZshPMzBjGjtVMN', 'phpSlSlDlcZpcZPrdHCFzFzFWFDWQH', 'tfMMZhjLlChsdsds', 'PHQRMHRwpRPBMvWvPRBpPdWDslGrbscTlTGcCsGddG', 'FqPSvHPHPBzQRBBwwRJfVtgjzntMntjJLMtJ', 'VBwJvwVwNbVRdPwMgWggGMgH', 'jDhqflDDhrqshNhdgPGHphLg', 'FltsrtcFrclrNqDfqmzQJQQRBzBCvCFvBR', 'RZsSSJDJZLDWnGDMLD', 'ClbnlfmpNtmgbtmMqWdjNGjLQjLqLj', 'gcblTlVCnVmcPrvRPFRrZs', 'mbJcScmbDWLmSBzwjPRTfjmmRhpl', 'tFFFtGttdClHVMCHFMMwTpwNjGpzPpNRRzzpPN', 'gCCdvZCVHsFvJnnDSglSglDn', 'dSndnRRvVSpLSphfqvTgWqrzqvvw', 'PBFQbQbDhGfjTTFzqG', 'tPmCJMtDDNcMVdhhVc', 'QVRVHCQRmdTRqrZFCWrLZNZFbb', 'ncncsPnhslBRSSSbFhtbZDLMbLbtLb', 'lvflPcfPSsPzlJlPlcPBfHJQwRwHmqdVpRGGGdQmww', 'GTCGMCcGdgRnnbbbMLwmMz', 'DQFZzllWDDLwDJLnJpnp', 'qBVrNNlZfFNlWlWqfRzhgvhCqHRdCGGSvc', 'ZnMnGbLZfJcBcLTgWF', 'dHJjdzqssHHNJwCHpHtDccvtBTtvccWWrrTWSg', 'CmlqCNzCzHlmdsqzNzRhMhZRbZMPmRfRJQPb', 'LsLLrFLcFjrtmZhhmhHGhJGGhH', 'ffvbsbWpSBSSCCQbsSBSwwJHHvhZHHGdGVGlMlTVdZlT', 'pSzWNPSfCwWNPBfsFqtFLtsqRzqFgj', 'hwwpvjVppGpwWGLrcPjrbrrdbjdL', 'FBqFFMFHHsHssNHtslqtFmldnnLrPhMnccrnMzZnbLgPLz', 'mJBSstlJQpwGSVhC', 'cgJDVWsrWggpcHhMzwwPnQMWMm', 'SZGBjdBqBBjGjjqNGfGNNHPnRSQFzhnwmnQzQnPHMR', 'bjjCZddjZbZBCtLhCZhftrgJglcTlJgvTllJvDVDLg', 'QpRJpCFdpqTQcqSTBBGBZVjZjVjFvwVB', 'nnnWfnHhPDlDnlLwGjBBbVVZGbCGbP', 'LhhLMLMrMWMrCprTqpJQpz', 'dqGGZJdZbTTMFFTGJFFbMdnCHSdWcmNmcCdWSggfSW', 'QsjjtrzLrQwDPjrQLrCfSSnmCmHWlCgmzlNl', 'PQpQPjQPsBstLBPttDrjBwTZMFMZFvJFJhMhnMJqpTJJ', 'JMLrSvHJdJvvJfrHMJRfWzWDFPwCcWqRRRcq', 'ljZsZTmmtTBlpTlTjQZCtNFPVqDRwWwWWVPcDRVpFRDz', 'mBgQgNNTNvrvJSvgCb', 'DWbWtzWDfDffbsMbZMffDDLncnnCJmLVsJJJnhgcngLs', 'TjgNGSBRTRTQrFRjFGBVLwLnnNncCLLCCcmhPC', 'GgGjvgddvvWqqfdZftWH', 'zMmsQlMfQQMhjsmjfsmHlhncRRZnRRRJRvZWWnhccdRC', 'BptFtDSSrTrpgtgqqgtZtvVVdVvccVnJdVnG', 'qpgPqBLDNTgqBrSLpDBMJfjzmbJMHjLMfjslzH', 'DPgLgPhfNDRqhDFDsBTtrrrdbbztCbtf', 'MjGSScGVGSlJjbbrtTvdzsTq', 'JJwJGWMZwMlWnFFgqNQFpF', 'WRGDHmGqWHlrmtVVVRVqpNZvZvvvTNPMPjbPdM', 'BwhBwsnzwhzSfCfswFvpvTzTdpMpjvPMZNTb', 'LFFQgnbfChSFBhFnftRRLrttDmmRJHtlGH', 'MhqhRHmDdRlRlGnfZbJVsNNZDnNb', 'QwvzgtwvFpmjwzLjFLJZrsZbPfPZbsVpfPsb', 'gvjTzBLztLTjwFjtgLTgtzwdWRqdqRTMSWcWTmWlqdhHHm', 'ZfzzfmhdpNLNBDDsFfQVCDggfV', 'HPFjljSnHrqVDgtgQgQMqC', 'rGnSJHvjSwGzwFhGZG', 'HqmHRDprrNTZTMbh', 'CJvzQRQVQCgNzZbzgMNd', 'vPCvFPcfQFlSJBcfRcPHmDGqWGDqpGtjjtGGHl', 'wcfpJVHfJBffBBGWRprNRWWWNdhv', 'DzMzMPqjDnjgCMZPZjzjCjChGdvvbhNdSvrhNWSNqWRRdS', 'jjCTtnMTDsMBtLRQwwQlFV', 'JqGnVqCTpDVCTnNLgmPzdgjcGmRg', 'HrSBJSHblsJthsBBSBhMsrzmdNRccjLzgcLmjgPPjlLL', 'HSwSttbswWJrbrSWppvVqvvnQVppQQ', 'JDCHssRTTwcRJDcnCDzRHsHNPZGBtPzFPSPttZSZGBqPBZ', 'vWhLmTlfrhFqGWSNQNqF', 'vpMhhpfvmTfhvbLhhgvmgvvlCCJCCMnDnDCnsjRMVDMDswCC', 'ZgjdlmlmmlJgHJlbZrSDrnrMrmLLDFprmp', 'TvqdTtdctvvDrGGSDn', 'CWPBhtWqPPwcdVwlNJfVVNNbbb', 'vgmrrwlPPrwPBPtmvFcMMrsMSJHscJcMSHDH', 'TWdLnZjCLGLMQLHBLS', 'jqVTTZqjdTVjNFNPqBvgvBNl', 'jmcgMzsmjmfvJwFpFfRWZRWp', 'drdSldTmCmTDCNCtbRRWqRwtttFZpZWZqw', 'NLCVLNLTbbTrQNQDvnzschgghnmnHQcH', 'sRVhVQDVDQRRMQhsqtRRNzqzbNzRqNGp', 'WdjCLHLjdFnCCnjnFnLHHmPmNJbztJJpprBpbGzbpJbqGWtB', 'CCFFCnFjdnjCTHmCLTLLCnFnQVhQQVDMhQQVgZZNVVDDsTVh', 'cGLzZgfzcNNzzRZvjvRmVDmmqCCDSdVVChVnDf', 'QstsPlWHQlWhMMtpsbtpQtlpDqBVqPSCSVnTTqmVdDVDVdBV', 'stptQFJrHptlQsFJMHtHhFbvNwvjLGvvNgzgjcwczzJcNJ', 'SQHCrCFPJZcnWrqn', 'vfJvJjfGGDggqZGcWD', 'pjLpRwzhRFtHdMQJ', 'HNSHNDvnvdffDNfqdZfdStcFFMGmmrRBcmFcrMrqrWFB', 'VblwzwhwPLlCGGzgzhmFjbjFrMFrjFBmbcrM', 'hlVPTCCQCCzVlPzhGgPVJCpHtdtSpQSZNNfnZdSSdnSD', 'cBVmfwqwmWggTRmQzTQl', 'CDnnHjSDPLCSCLHLHCHNCDFgwJljFQRRhlglbzJFQQhl', 'GptHLtNGHtCHSnCMtGWdcsqqWwMcqvdsVwfd', 'HsMFNRNWnbWfZLzWzQ', 'PqrpjqNdjjhPcdbpvmfzfbffbzmv', 'GjhhcPjPccVrqcPCldCjssHNnTnNttRwwVMTHMnV', 'jjCcBswcfnwgpPFPwFFGSFSwFb', 'VvmVhVvRRQqttRtQDLzLhqRlrBFMWrGPBSMSZSMFqBWZZP', 'mvQmLRvJtBJVnTcJCjsjsdgp', 'qgqvPbdMDMMPwpbLFGwtNlNF', 'TTQmdJTnSllFGtJNtw', 'CSSHmQHfmVcHjQmSvPBdBDDWMVhMhRMB', 'WCvQNZdhCDnnPfQPfTzjHcppsHjpsSjHNS', 'mFMgMBlMmBqHjjBfTjHzBc', 'grJbrqfqMVFJrlJrtCtvhPPQdnvnnvnwdW', 'FdQQJRdfSSfrJsRZfFsRSvtDBmDHGtGqbgvnmbDnvDGq', 'lcMzjCPTVtMqgWWGqn', 'VpLjcVPczhzznPLcPhTwFQFRZNfFNrNZFpZNsZJR', 'VWgJhmdDdJDdVPggPSTSTWvvfRzfFfFbNb', 'jCQtnpGQrHMctnpzRbFfgSwHvgwfwv', 'ntcMcqLMcQccQLgjBPLdhZDVlJPVdDLJ', 'RnPnwtqHnJthjLMcWWncMn', 'msdCrCdNpBBsCrlNTpNBDNGzcLchQjFQzccQLQpzLzWtFS', 'sTbdTBNrTCTTBCNBlVbwgVPJHtPgPvqgff', 'QmBsmpmcZQNqPqVnPFVpGh', 'gDDMDLMJgHfJwJMzfTfdGLhChPtvnGRPRRLFGPGv', 'DTlzgwfDrrrMWlncbscNnlSW', 'tBwvGHFttrFrvRgRhCmCmwQmMg', 'JWbNJZjzfbVjWjBhqfmSnhqCqgnQ', 'ZZJJJbclzJcsTPdvTTPTBFtHDF', 'LszmFTFpTmszLrpqSmFpzcvQjtQjvLJgJtcBjgtJjj', 'VHNwwNCVCChddfwHlWdnlnGRQPcQjRvMWBJJtMMWcvPJMM', 'nGHNVHhnfnHDNhCfdhNNlwHvmpDrZDmpzmbZSZFsmmbqrrsz']\n"
          ]
        }
      ]
    },
    {
      "cell_type": "code",
      "source": [
        "# Get priority value of an item types\n",
        "def priority(letter):\n",
        "  if letter.isupper():\n",
        "    return ord(letter) - 64 + 26\n",
        "  else:\n",
        "    return ord(letter) - 96"
      ],
      "metadata": {
        "id": "TjVGuYFJTDjU"
      },
      "execution_count": null,
      "outputs": []
    },
    {
      "cell_type": "code",
      "source": [
        "# Part I\n",
        "compartments = [[string[:len(string)//2], string[len(string)//2:]] for string in packs]\n",
        "total_priority = 0\n",
        "for pack in compartments:\n",
        "  for character in pack[0]:\n",
        "    if character in pack[1]:\n",
        "      total_priority += priority(character)\n",
        "      break\n",
        "print(total_priority)"
      ],
      "metadata": {
        "colab": {
          "base_uri": "https://localhost:8080/"
        },
        "id": "_ADWMg-pTug4",
        "outputId": "eaac6be7-4e16-4565-b2d1-e3e3c16cc520"
      },
      "execution_count": null,
      "outputs": [
        {
          "output_type": "stream",
          "name": "stdout",
          "text": [
            "7581\n"
          ]
        }
      ]
    },
    {
      "cell_type": "code",
      "source": [
        "# Part II\n",
        "total_priority = 0\n",
        "for i in range(len(packs)//3):\n",
        "  for character in packs[3*i]:\n",
        "    if character in packs[3*i+1]:\n",
        "      if character in packs[3*i+2]:\n",
        "        total_priority += priority(character)\n",
        "        break\n",
        "print(total_priority)"
      ],
      "metadata": {
        "colab": {
          "base_uri": "https://localhost:8080/"
        },
        "id": "mJuYrXeQWi5g",
        "outputId": "c1cae200-0c1d-4a3c-8731-540123f977c9"
      },
      "execution_count": null,
      "outputs": [
        {
          "output_type": "stream",
          "name": "stdout",
          "text": [
            "2525\n"
          ]
        }
      ]
    }
  ]
}