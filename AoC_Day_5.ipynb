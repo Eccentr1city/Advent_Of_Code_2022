{
  "nbformat": 4,
  "nbformat_minor": 0,
  "metadata": {
    "colab": {
      "provenance": [],
      "authorship_tag": "ABX9TyOMVECFo+lm1FiIXlrnp8yj",
      "include_colab_link": true
    },
    "kernelspec": {
      "name": "python3",
      "display_name": "Python 3"
    },
    "language_info": {
      "name": "python"
    }
  },
  "cells": [
    {
      "cell_type": "markdown",
      "metadata": {
        "id": "view-in-github",
        "colab_type": "text"
      },
      "source": [
        "<a href=\"https://colab.research.google.com/github/Eccentr1city/Advent_Of_Code_2022/blob/main/AoC_Day_5.ipynb\" target=\"_parent\"><img src=\"https://colab.research.google.com/assets/colab-badge.svg\" alt=\"Open In Colab\"/></a>"
      ]
    },
    {
      "cell_type": "code",
      "execution_count": 1,
      "metadata": {
        "colab": {
          "base_uri": "https://localhost:8080/",
          "height": 73
        },
        "id": "6SqY3jYeXfVz",
        "outputId": "321ec949-cb90-4078-8624-2b840bb295d5"
      },
      "outputs": [
        {
          "output_type": "display_data",
          "data": {
            "text/plain": [
              "<IPython.core.display.HTML object>"
            ],
            "text/html": [
              "\n",
              "     <input type=\"file\" id=\"files-70cb20b0-7ecd-4af2-9d75-243ec86fb604\" name=\"files[]\" multiple disabled\n",
              "        style=\"border:none\" />\n",
              "     <output id=\"result-70cb20b0-7ecd-4af2-9d75-243ec86fb604\">\n",
              "      Upload widget is only available when the cell has been executed in the\n",
              "      current browser session. Please rerun this cell to enable.\n",
              "      </output>\n",
              "      <script>// Copyright 2017 Google LLC\n",
              "//\n",
              "// Licensed under the Apache License, Version 2.0 (the \"License\");\n",
              "// you may not use this file except in compliance with the License.\n",
              "// You may obtain a copy of the License at\n",
              "//\n",
              "//      http://www.apache.org/licenses/LICENSE-2.0\n",
              "//\n",
              "// Unless required by applicable law or agreed to in writing, software\n",
              "// distributed under the License is distributed on an \"AS IS\" BASIS,\n",
              "// WITHOUT WARRANTIES OR CONDITIONS OF ANY KIND, either express or implied.\n",
              "// See the License for the specific language governing permissions and\n",
              "// limitations under the License.\n",
              "\n",
              "/**\n",
              " * @fileoverview Helpers for google.colab Python module.\n",
              " */\n",
              "(function(scope) {\n",
              "function span(text, styleAttributes = {}) {\n",
              "  const element = document.createElement('span');\n",
              "  element.textContent = text;\n",
              "  for (const key of Object.keys(styleAttributes)) {\n",
              "    element.style[key] = styleAttributes[key];\n",
              "  }\n",
              "  return element;\n",
              "}\n",
              "\n",
              "// Max number of bytes which will be uploaded at a time.\n",
              "const MAX_PAYLOAD_SIZE = 100 * 1024;\n",
              "\n",
              "function _uploadFiles(inputId, outputId) {\n",
              "  const steps = uploadFilesStep(inputId, outputId);\n",
              "  const outputElement = document.getElementById(outputId);\n",
              "  // Cache steps on the outputElement to make it available for the next call\n",
              "  // to uploadFilesContinue from Python.\n",
              "  outputElement.steps = steps;\n",
              "\n",
              "  return _uploadFilesContinue(outputId);\n",
              "}\n",
              "\n",
              "// This is roughly an async generator (not supported in the browser yet),\n",
              "// where there are multiple asynchronous steps and the Python side is going\n",
              "// to poll for completion of each step.\n",
              "// This uses a Promise to block the python side on completion of each step,\n",
              "// then passes the result of the previous step as the input to the next step.\n",
              "function _uploadFilesContinue(outputId) {\n",
              "  const outputElement = document.getElementById(outputId);\n",
              "  const steps = outputElement.steps;\n",
              "\n",
              "  const next = steps.next(outputElement.lastPromiseValue);\n",
              "  return Promise.resolve(next.value.promise).then((value) => {\n",
              "    // Cache the last promise value to make it available to the next\n",
              "    // step of the generator.\n",
              "    outputElement.lastPromiseValue = value;\n",
              "    return next.value.response;\n",
              "  });\n",
              "}\n",
              "\n",
              "/**\n",
              " * Generator function which is called between each async step of the upload\n",
              " * process.\n",
              " * @param {string} inputId Element ID of the input file picker element.\n",
              " * @param {string} outputId Element ID of the output display.\n",
              " * @return {!Iterable<!Object>} Iterable of next steps.\n",
              " */\n",
              "function* uploadFilesStep(inputId, outputId) {\n",
              "  const inputElement = document.getElementById(inputId);\n",
              "  inputElement.disabled = false;\n",
              "\n",
              "  const outputElement = document.getElementById(outputId);\n",
              "  outputElement.innerHTML = '';\n",
              "\n",
              "  const pickedPromise = new Promise((resolve) => {\n",
              "    inputElement.addEventListener('change', (e) => {\n",
              "      resolve(e.target.files);\n",
              "    });\n",
              "  });\n",
              "\n",
              "  const cancel = document.createElement('button');\n",
              "  inputElement.parentElement.appendChild(cancel);\n",
              "  cancel.textContent = 'Cancel upload';\n",
              "  const cancelPromise = new Promise((resolve) => {\n",
              "    cancel.onclick = () => {\n",
              "      resolve(null);\n",
              "    };\n",
              "  });\n",
              "\n",
              "  // Wait for the user to pick the files.\n",
              "  const files = yield {\n",
              "    promise: Promise.race([pickedPromise, cancelPromise]),\n",
              "    response: {\n",
              "      action: 'starting',\n",
              "    }\n",
              "  };\n",
              "\n",
              "  cancel.remove();\n",
              "\n",
              "  // Disable the input element since further picks are not allowed.\n",
              "  inputElement.disabled = true;\n",
              "\n",
              "  if (!files) {\n",
              "    return {\n",
              "      response: {\n",
              "        action: 'complete',\n",
              "      }\n",
              "    };\n",
              "  }\n",
              "\n",
              "  for (const file of files) {\n",
              "    const li = document.createElement('li');\n",
              "    li.append(span(file.name, {fontWeight: 'bold'}));\n",
              "    li.append(span(\n",
              "        `(${file.type || 'n/a'}) - ${file.size} bytes, ` +\n",
              "        `last modified: ${\n",
              "            file.lastModifiedDate ? file.lastModifiedDate.toLocaleDateString() :\n",
              "                                    'n/a'} - `));\n",
              "    const percent = span('0% done');\n",
              "    li.appendChild(percent);\n",
              "\n",
              "    outputElement.appendChild(li);\n",
              "\n",
              "    const fileDataPromise = new Promise((resolve) => {\n",
              "      const reader = new FileReader();\n",
              "      reader.onload = (e) => {\n",
              "        resolve(e.target.result);\n",
              "      };\n",
              "      reader.readAsArrayBuffer(file);\n",
              "    });\n",
              "    // Wait for the data to be ready.\n",
              "    let fileData = yield {\n",
              "      promise: fileDataPromise,\n",
              "      response: {\n",
              "        action: 'continue',\n",
              "      }\n",
              "    };\n",
              "\n",
              "    // Use a chunked sending to avoid message size limits. See b/62115660.\n",
              "    let position = 0;\n",
              "    do {\n",
              "      const length = Math.min(fileData.byteLength - position, MAX_PAYLOAD_SIZE);\n",
              "      const chunk = new Uint8Array(fileData, position, length);\n",
              "      position += length;\n",
              "\n",
              "      const base64 = btoa(String.fromCharCode.apply(null, chunk));\n",
              "      yield {\n",
              "        response: {\n",
              "          action: 'append',\n",
              "          file: file.name,\n",
              "          data: base64,\n",
              "        },\n",
              "      };\n",
              "\n",
              "      let percentDone = fileData.byteLength === 0 ?\n",
              "          100 :\n",
              "          Math.round((position / fileData.byteLength) * 100);\n",
              "      percent.textContent = `${percentDone}% done`;\n",
              "\n",
              "    } while (position < fileData.byteLength);\n",
              "  }\n",
              "\n",
              "  // All done.\n",
              "  yield {\n",
              "    response: {\n",
              "      action: 'complete',\n",
              "    }\n",
              "  };\n",
              "}\n",
              "\n",
              "scope.google = scope.google || {};\n",
              "scope.google.colab = scope.google.colab || {};\n",
              "scope.google.colab._files = {\n",
              "  _uploadFiles,\n",
              "  _uploadFilesContinue,\n",
              "};\n",
              "})(self);\n",
              "</script> "
            ]
          },
          "metadata": {}
        },
        {
          "output_type": "stream",
          "name": "stdout",
          "text": [
            "Saving input5.txt to input5.txt\n"
          ]
        }
      ],
      "source": [
        "import numpy as np\n",
        "from google.colab import files\n",
        "input = files.upload()"
      ]
    },
    {
      "cell_type": "code",
      "source": [
        "#                 [V]     [C]     [M]\n",
        "# [V]     [J]     [N]     [H]     [V]\n",
        "# [R] [F] [N]     [W]     [Z]     [N]\n",
        "# [H] [R] [D]     [Q] [M] [L]     [B]\n",
        "# [B] [C] [H] [V] [R] [C] [G]     [R]\n",
        "# [G] [G] [F] [S] [D] [H] [B] [R] [S]\n",
        "# [D] [N] [S] [D] [H] [G] [J] [J] [G]\n",
        "# [W] [J] [L] [J] [S] [P] [F] [S] [L]\n",
        "#  1   2   3   4   5   6   7   8   9 \n",
        "\n",
        "stacks = ['WDGBHRV','JNGCRF','LSFHDNJ','JDSV','SHDRQWNV','PGHCM','FJBGLZHC','SJR','LGSRBNVM']"
      ],
      "metadata": {
        "id": "sFDE9MOhXyZF"
      },
      "execution_count": 39,
      "outputs": []
    },
    {
      "cell_type": "code",
      "source": [
        "# Read input file and convert to list of pairs\n",
        "file = open(\"input5.txt\", \"r\")\n",
        "instructions = file.read().splitlines()[10:]\n",
        "instructions = [item.split(' from ') for item in instructions]\n",
        "print(instructions)"
      ],
      "metadata": {
        "colab": {
          "base_uri": "https://localhost:8080/"
        },
        "id": "1J24uMSvXlCf",
        "outputId": "4399f9f8-6e8a-49c1-ffd5-157157e913bd"
      },
      "execution_count": 40,
      "outputs": [
        {
          "output_type": "stream",
          "name": "stdout",
          "text": [
            "[['move 2', '2 to 7'], ['move 8', '5 to 6'], ['move 2', '4 to 5'], ['move 1', '4 to 5'], ['move 1', '5 to 8'], ['move 5', '9 to 2'], ['move 7', '1 to 6'], ['move 7', '3 to 8'], ['move 1', '4 to 6'], ['move 2', '5 to 6'], ['move 6', '7 to 5'], ['move 2', '2 to 4'], ['move 4', '5 to 2'], ['move 10', '8 to 1'], ['move 2', '7 to 4'], ['move 4', '2 to 8'], ['move 2', '9 to 8'], ['move 1', '8 to 4'], ['move 2', '4 to 9'], ['move 5', '8 to 2'], ['move 1', '4 to 6'], ['move 1', '8 to 9'], ['move 1', '7 to 2'], ['move 2', '4 to 2'], ['move 1', '7 to 3'], ['move 13', '2 to 1'], ['move 1', '2 to 4'], ['move 1', '2 to 3'], ['move 2', '5 to 4'], ['move 17', '6 to 4'], ['move 3', '4 to 9'], ['move 14', '1 to 4'], ['move 4', '6 to 8'], ['move 1', '9 to 8'], ['move 23', '4 to 8'], ['move 6', '1 to 7'], ['move 3', '1 to 5'], ['move 1', '3 to 8'], ['move 5', '7 to 8'], ['move 1', '3 to 4'], ['move 1', '5 to 3'], ['move 1', '5 to 1'], ['move 1', '3 to 2'], ['move 1', '9 to 4'], ['move 9', '4 to 9'], ['move 1', '1 to 2'], ['move 11', '8 to 2'], ['move 1', '4 to 5'], ['move 13', '2 to 3'], ['move 7', '9 to 6'], ['move 1', '5 to 6'], ['move 1', '5 to 2'], ['move 1', '9 to 4'], ['move 1', '4 to 9'], ['move 2', '8 to 9'], ['move 1', '7 to 8'], ['move 8', '9 to 1'], ['move 8', '1 to 4'], ['move 4', '6 to 7'], ['move 1', '9 to 4'], ['move 2', '3 to 9'], ['move 1', '9 to 1'], ['move 6', '4 to 1'], ['move 2', '1 to 3'], ['move 22', '8 to 6'], ['move 1', '2 to 5'], ['move 3', '7 to 8'], ['move 15', '6 to 4'], ['move 7', '3 to 7'], ['move 4', '6 to 9'], ['move 2', '9 to 2'], ['move 6', '3 to 5'], ['move 3', '9 to 5'], ['move 5', '5 to 8'], ['move 1', '2 to 1'], ['move 6', '8 to 2'], ['move 1', '1 to 2'], ['move 3', '5 to 3'], ['move 1', '7 to 2'], ['move 4', '7 to 8'], ['move 4', '6 to 1'], ['move 1', '5 to 1'], ['move 4', '8 to 7'], ['move 2', '3 to 2'], ['move 1', '1 to 3'], ['move 15', '4 to 2'], ['move 3', '7 to 3'], ['move 4', '7 to 2'], ['move 1', '4 to 9'], ['move 5', '3 to 8'], ['move 29', '2 to 1'], ['move 1', '9 to 5'], ['move 1', '2 to 1'], ['move 11', '1 to 5'], ['move 1', '4 to 5'], ['move 2', '6 to 3'], ['move 1', '3 to 4'], ['move 16', '1 to 9'], ['move 4', '8 to 4'], ['move 3', '6 to 9'], ['move 1', '3 to 7'], ['move 1', '7 to 3'], ['move 6', '1 to 6'], ['move 3', '4 to 3'], ['move 3', '8 to 5'], ['move 3', '1 to 8'], ['move 3', '1 to 4'], ['move 2', '4 to 9'], ['move 3', '6 to 3'], ['move 15', '5 to 2'], ['move 3', '2 to 3'], ['move 4', '2 to 7'], ['move 2', '5 to 9'], ['move 10', '3 to 6'], ['move 11', '9 to 5'], ['move 2', '4 to 9'], ['move 8', '9 to 4'], ['move 1', '9 to 6'], ['move 7', '4 to 6'], ['move 3', '5 to 8'], ['move 22', '6 to 9'], ['move 4', '7 to 8'], ['move 8', '5 to 8'], ['move 2', '4 to 3'], ['move 1', '8 to 1'], ['move 17', '8 to 3'], ['move 3', '3 to 4'], ['move 13', '3 to 9'], ['move 20', '9 to 7'], ['move 2', '2 to 9'], ['move 19', '9 to 5'], ['move 1', '1 to 4'], ['move 3', '2 to 7'], ['move 4', '4 to 3'], ['move 1', '9 to 8'], ['move 18', '5 to 1'], ['move 1', '9 to 4'], ['move 1', '9 to 7'], ['move 2', '4 to 8'], ['move 1', '5 to 4'], ['move 3', '2 to 7'], ['move 3', '3 to 1'], ['move 2', '1 to 3'], ['move 3', '3 to 8'], ['move 1', '4 to 8'], ['move 6', '8 to 2'], ['move 1', '3 to 9'], ['move 1', '3 to 9'], ['move 10', '1 to 9'], ['move 7', '1 to 7'], ['move 4', '7 to 4'], ['move 29', '7 to 3'], ['move 6', '2 to 9'], ['move 25', '3 to 6'], ['move 5', '3 to 9'], ['move 13', '6 to 9'], ['move 12', '6 to 2'], ['move 1', '8 to 9'], ['move 10', '2 to 6'], ['move 7', '6 to 5'], ['move 20', '9 to 3'], ['move 11', '3 to 6'], ['move 1', '7 to 9'], ['move 2', '2 to 9'], ['move 19', '9 to 2'], ['move 14', '6 to 8'], ['move 4', '5 to 2'], ['move 2', '4 to 6'], ['move 3', '5 to 1'], ['move 13', '8 to 5'], ['move 1', '6 to 1'], ['move 2', '4 to 2'], ['move 8', '2 to 4'], ['move 6', '4 to 7'], ['move 1', '9 to 8'], ['move 2', '4 to 7'], ['move 5', '2 to 4'], ['move 4', '4 to 2'], ['move 10', '5 to 6'], ['move 1', '1 to 7'], ['move 1', '5 to 4'], ['move 1', '4 to 9'], ['move 4', '7 to 8'], ['move 5', '1 to 7'], ['move 1', '9 to 7'], ['move 7', '3 to 2'], ['move 2', '5 to 2'], ['move 8', '6 to 9'], ['move 1', '4 to 6'], ['move 3', '7 to 4'], ['move 5', '9 to 7'], ['move 2', '4 to 3'], ['move 20', '2 to 4'], ['move 2', '4 to 8'], ['move 14', '4 to 2'], ['move 12', '7 to 4'], ['move 8', '2 to 1'], ['move 10', '2 to 4'], ['move 6', '8 to 5'], ['move 1', '7 to 8'], ['move 4', '4 to 3'], ['move 1', '3 to 9'], ['move 1', '2 to 7'], ['move 1', '6 to 8'], ['move 5', '3 to 5'], ['move 1', '3 to 2'], ['move 7', '4 to 5'], ['move 6', '1 to 7'], ['move 5', '7 to 6'], ['move 1', '6 to 5'], ['move 2', '7 to 8'], ['move 1', '2 to 6'], ['move 2', '8 to 2'], ['move 5', '5 to 7'], ['move 6', '6 to 8'], ['move 16', '4 to 9'], ['move 16', '9 to 4'], ['move 11', '5 to 4'], ['move 5', '8 to 3'], ['move 2', '5 to 2'], ['move 14', '4 to 2'], ['move 1', '6 to 3'], ['move 1', '6 to 9'], ['move 1', '5 to 3'], ['move 3', '8 to 2'], ['move 10', '4 to 7'], ['move 5', '9 to 2'], ['move 3', '4 to 7'], ['move 1', '1 to 4'], ['move 3', '2 to 5'], ['move 2', '3 to 7'], ['move 1', '4 to 2'], ['move 18', '2 to 8'], ['move 3', '8 to 4'], ['move 5', '3 to 1'], ['move 1', '3 to 9'], ['move 1', '9 to 3'], ['move 8', '8 to 7'], ['move 2', '5 to 4'], ['move 1', '5 to 6'], ['move 1', '2 to 5'], ['move 1', '5 to 8'], ['move 1', '6 to 9'], ['move 3', '2 to 7'], ['move 27', '7 to 4'], ['move 2', '2 to 4'], ['move 4', '8 to 4'], ['move 1', '9 to 8'], ['move 3', '1 to 6'], ['move 1', '3 to 5'], ['move 3', '8 to 3'], ['move 1', '1 to 4'], ['move 1', '8 to 1'], ['move 3', '1 to 4'], ['move 2', '8 to 2'], ['move 2', '6 to 2'], ['move 8', '4 to 9'], ['move 1', '7 to 1'], ['move 1', '5 to 4'], ['move 1', '7 to 3'], ['move 4', '2 to 7'], ['move 1', '8 to 6'], ['move 8', '9 to 7'], ['move 1', '6 to 3'], ['move 3', '3 to 4'], ['move 37', '4 to 1'], ['move 1', '4 to 5'], ['move 13', '7 to 8'], ['move 6', '8 to 4'], ['move 5', '8 to 3'], ['move 1', '7 to 6'], ['move 4', '1 to 5'], ['move 1', '6 to 5'], ['move 2', '8 to 4'], ['move 32', '1 to 5'], ['move 1', '1 to 4'], ['move 5', '3 to 5'], ['move 1', '3 to 2'], ['move 1', '2 to 9'], ['move 19', '5 to 2'], ['move 1', '9 to 1'], ['move 16', '5 to 1'], ['move 7', '5 to 6'], ['move 1', '3 to 1'], ['move 11', '1 to 2'], ['move 18', '2 to 4'], ['move 1', '5 to 9'], ['move 8', '6 to 1'], ['move 10', '2 to 6'], ['move 7', '4 to 9'], ['move 2', '2 to 1'], ['move 7', '4 to 2'], ['move 5', '4 to 5'], ['move 2', '9 to 6'], ['move 9', '6 to 3'], ['move 5', '5 to 3'], ['move 8', '4 to 9'], ['move 7', '9 to 8'], ['move 4', '2 to 9'], ['move 10', '3 to 1'], ['move 6', '8 to 1'], ['move 2', '6 to 3'], ['move 5', '3 to 8'], ['move 3', '2 to 7'], ['move 1', '9 to 5'], ['move 1', '3 to 5'], ['move 2', '7 to 8'], ['move 1', '8 to 9'], ['move 1', '6 to 1'], ['move 23', '1 to 4'], ['move 2', '5 to 3'], ['move 1', '8 to 2'], ['move 2', '8 to 5'], ['move 2', '5 to 6'], ['move 1', '2 to 7'], ['move 1', '7 to 5'], ['move 4', '9 to 7'], ['move 1', '7 to 5'], ['move 1', '3 to 6'], ['move 3', '7 to 4'], ['move 1', '3 to 8'], ['move 1', '4 to 6'], ['move 6', '1 to 8'], ['move 4', '6 to 4'], ['move 2', '9 to 1'], ['move 1', '5 to 1'], ['move 19', '4 to 2'], ['move 2', '9 to 3'], ['move 1', '9 to 3'], ['move 9', '1 to 8'], ['move 1', '5 to 8'], ['move 1', '9 to 3'], ['move 2', '3 to 9'], ['move 3', '8 to 4'], ['move 1', '4 to 9'], ['move 1', '9 to 5'], ['move 2', '3 to 4'], ['move 6', '4 to 7'], ['move 3', '9 to 5'], ['move 4', '4 to 7'], ['move 1', '5 to 6'], ['move 18', '2 to 7'], ['move 13', '7 to 9'], ['move 3', '5 to 1'], ['move 1', '2 to 1'], ['move 1', '6 to 5'], ['move 3', '1 to 7'], ['move 1', '1 to 5'], ['move 7', '9 to 6'], ['move 8', '7 to 4'], ['move 11', '7 to 6'], ['move 5', '9 to 2'], ['move 17', '6 to 1'], ['move 2', '5 to 1'], ['move 11', '8 to 1'], ['move 20', '1 to 2'], ['move 3', '8 to 1'], ['move 1', '9 to 8'], ['move 1', '6 to 1'], ['move 11', '1 to 7'], ['move 18', '2 to 3'], ['move 12', '4 to 8'], ['move 11', '7 to 3'], ['move 7', '2 to 3'], ['move 2', '1 to 5'], ['move 1', '1 to 3'], ['move 1', '8 to 1'], ['move 1', '5 to 9'], ['move 1', '9 to 6'], ['move 1', '8 to 7'], ['move 1', '5 to 3'], ['move 1', '6 to 7'], ['move 2', '8 to 1'], ['move 8', '3 to 2'], ['move 7', '2 to 9'], ['move 6', '8 to 6'], ['move 1', '9 to 3'], ['move 2', '6 to 4'], ['move 5', '9 to 6'], ['move 7', '6 to 2'], ['move 8', '2 to 9'], ['move 2', '1 to 9'], ['move 2', '7 to 2'], ['move 2', '4 to 8'], ['move 1', '2 to 7'], ['move 25', '3 to 7'], ['move 7', '9 to 7'], ['move 1', '2 to 5'], ['move 1', '1 to 4'], ['move 3', '8 to 1'], ['move 3', '1 to 8'], ['move 3', '7 to 8'], ['move 15', '7 to 3'], ['move 10', '8 to 3'], ['move 1', '5 to 7'], ['move 1', '8 to 5'], ['move 3', '9 to 2'], ['move 1', '6 to 4'], ['move 2', '2 to 7'], ['move 1', '2 to 5'], ['move 14', '7 to 9'], ['move 1', '6 to 2'], ['move 1', '7 to 1'], ['move 1', '5 to 4'], ['move 3', '4 to 3'], ['move 1', '7 to 6'], ['move 1', '2 to 7'], ['move 1', '1 to 2'], ['move 3', '9 to 1'], ['move 1', '6 to 2'], ['move 2', '2 to 6'], ['move 17', '3 to 6'], ['move 1', '8 to 3'], ['move 1', '5 to 4'], ['move 2', '7 to 2'], ['move 9', '9 to 8'], ['move 1', '9 to 3'], ['move 16', '3 to 2'], ['move 1', '7 to 5'], ['move 5', '6 to 5'], ['move 1', '1 to 6'], ['move 1', '4 to 1'], ['move 1', '9 to 3'], ['move 9', '8 to 6'], ['move 3', '1 to 5'], ['move 1', '9 to 1'], ['move 16', '2 to 1'], ['move 2', '2 to 7'], ['move 2', '3 to 9'], ['move 2', '7 to 4'], ['move 2', '9 to 3'], ['move 3', '3 to 5'], ['move 1', '4 to 5'], ['move 1', '4 to 2'], ['move 1', '1 to 7'], ['move 1', '7 to 1'], ['move 1', '3 to 6'], ['move 2', '5 to 1'], ['move 3', '6 to 2'], ['move 2', '5 to 8'], ['move 8', '5 to 4'], ['move 1', '5 to 3'], ['move 1', '3 to 2'], ['move 1', '8 to 3'], ['move 1', '3 to 8'], ['move 4', '1 to 7'], ['move 9', '1 to 7'], ['move 6', '1 to 8'], ['move 3', '7 to 4'], ['move 7', '6 to 7'], ['move 11', '4 to 3'], ['move 2', '3 to 8'], ['move 8', '3 to 8'], ['move 4', '6 to 1'], ['move 1', '7 to 4'], ['move 2', '1 to 2'], ['move 8', '7 to 2'], ['move 1', '4 to 8'], ['move 10', '8 to 2'], ['move 2', '6 to 1'], ['move 1', '1 to 4'], ['move 1', '4 to 8'], ['move 2', '1 to 4'], ['move 6', '6 to 5'], ['move 1', '1 to 9'], ['move 2', '6 to 8'], ['move 1', '4 to 5'], ['move 1', '6 to 9'], ['move 4', '8 to 9'], ['move 1', '7 to 1'], ['move 6', '8 to 6'], ['move 1', '6 to 1'], ['move 1', '4 to 9'], ['move 2', '9 to 5'], ['move 5', '5 to 9'], ['move 8', '9 to 5'], ['move 2', '8 to 5'], ['move 3', '6 to 9'], ['move 8', '5 to 7'], ['move 5', '5 to 6'], ['move 1', '9 to 2'], ['move 1', '3 to 1'], ['move 1', '6 to 7'], ['move 1', '5 to 6'], ['move 24', '2 to 4'], ['move 3', '9 to 7'], ['move 16', '4 to 5'], ['move 2', '1 to 3'], ['move 12', '5 to 6'], ['move 1', '9 to 5'], ['move 4', '5 to 9'], ['move 1', '1 to 6'], ['move 1', '5 to 2'], ['move 2', '9 to 8'], ['move 1', '8 to 1'], ['move 5', '4 to 5'], ['move 2', '3 to 5'], ['move 1', '8 to 3'], ['move 1', '1 to 6'], ['move 3', '5 to 7'], ['move 1', '9 to 1'], ['move 1', '2 to 8']]\n"
          ]
        }
      ]
    },
    {
      "cell_type": "code",
      "source": [
        "# Part I\n",
        "stacks = ['WDGBHRV','JNGCRF','LSFHDNJ','JDSV','SHDRQWNV','PGHCM','FJBGLZHC','SJR','LGSRBNVM']\n",
        "for instruction in instructions:\n",
        "  for i in range(int(instruction[0].replace('move ', ''))):\n",
        "    stacks[int(instruction[1][-1])-1] += stacks[int(instruction[1][0])-1][-1]\n",
        "    stacks[int(instruction[1][0])-1] = stacks[int(instruction[1][0])-1][:-1]\n",
        "print(''.join([item[-1] for item in stacks]))"
      ],
      "metadata": {
        "colab": {
          "base_uri": "https://localhost:8080/"
        },
        "id": "X4iq6J-NZRby",
        "outputId": "bb729552-c4f7-40df-8f1f-9dc2bc51a3cc"
      },
      "execution_count": 51,
      "outputs": [
        {
          "output_type": "stream",
          "name": "stdout",
          "text": [
            "JRVNHHCSJ\n"
          ]
        }
      ]
    },
    {
      "cell_type": "code",
      "source": [
        "# Part II\n",
        "stacks = ['WDGBHRV','JNGCRF','LSFHDNJ','JDSV','SHDRQWNV','PGHCM','FJBGLZHC','SJR','LGSRBNVM']\n",
        "for instruction in instructions:\n",
        "  stacks[int(instruction[1][-1])-1] += stacks[int(instruction[1][0])-1][-1*(int(instruction[0].replace('move ', ''))):]\n",
        "  stacks[int(instruction[1][0])-1] = stacks[int(instruction[1][0])-1][:-1*(int(instruction[0].replace('move ', '')))]\n",
        "print(''.join([item[-1] for item in stacks]))"
      ],
      "metadata": {
        "colab": {
          "base_uri": "https://localhost:8080/"
        },
        "id": "C5NyYY3Vfo4B",
        "outputId": "73db01ab-a7f5-488c-ad25-5ac1827d80d5"
      },
      "execution_count": 67,
      "outputs": [
        {
          "output_type": "stream",
          "name": "stdout",
          "text": [
            "GNFBSBJLH\n"
          ]
        }
      ]
    }
  ]
}