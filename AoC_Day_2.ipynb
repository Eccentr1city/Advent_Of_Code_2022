{
  "nbformat": 4,
  "nbformat_minor": 0,
  "metadata": {
    "colab": {
      "provenance": [],
      "authorship_tag": "ABX9TyMSsSGqRRcTr2ysmk4qmMz5",
      "include_colab_link": true
    },
    "kernelspec": {
      "name": "python3",
      "display_name": "Python 3"
    },
    "language_info": {
      "name": "python"
    }
  },
  "cells": [
    {
      "cell_type": "markdown",
      "metadata": {
        "id": "view-in-github",
        "colab_type": "text"
      },
      "source": [
        "<a href=\"https://colab.research.google.com/github/Eccentr1city/Advent_Of_Code_2022/blob/main/AoC_Day_2.ipynb\" target=\"_parent\"><img src=\"https://colab.research.google.com/assets/colab-badge.svg\" alt=\"Open In Colab\"/></a>"
      ]
    },
    {
      "cell_type": "code",
      "execution_count": null,
      "metadata": {
        "colab": {
          "base_uri": "https://localhost:8080/",
          "height": 73
        },
        "id": "0c9osO0RPTAP",
        "outputId": "a27f0466-145e-4786-d0e3-463a12cb61bd"
      },
      "outputs": [
        {
          "output_type": "display_data",
          "data": {
            "text/plain": [
              "<IPython.core.display.HTML object>"
            ],
            "text/html": [
              "\n",
              "     <input type=\"file\" id=\"files-b23d2081-2388-4b06-829b-ae7e29bb53c7\" name=\"files[]\" multiple disabled\n",
              "        style=\"border:none\" />\n",
              "     <output id=\"result-b23d2081-2388-4b06-829b-ae7e29bb53c7\">\n",
              "      Upload widget is only available when the cell has been executed in the\n",
              "      current browser session. Please rerun this cell to enable.\n",
              "      </output>\n",
              "      <script>// Copyright 2017 Google LLC\n",
              "//\n",
              "// Licensed under the Apache License, Version 2.0 (the \"License\");\n",
              "// you may not use this file except in compliance with the License.\n",
              "// You may obtain a copy of the License at\n",
              "//\n",
              "//      http://www.apache.org/licenses/LICENSE-2.0\n",
              "//\n",
              "// Unless required by applicable law or agreed to in writing, software\n",
              "// distributed under the License is distributed on an \"AS IS\" BASIS,\n",
              "// WITHOUT WARRANTIES OR CONDITIONS OF ANY KIND, either express or implied.\n",
              "// See the License for the specific language governing permissions and\n",
              "// limitations under the License.\n",
              "\n",
              "/**\n",
              " * @fileoverview Helpers for google.colab Python module.\n",
              " */\n",
              "(function(scope) {\n",
              "function span(text, styleAttributes = {}) {\n",
              "  const element = document.createElement('span');\n",
              "  element.textContent = text;\n",
              "  for (const key of Object.keys(styleAttributes)) {\n",
              "    element.style[key] = styleAttributes[key];\n",
              "  }\n",
              "  return element;\n",
              "}\n",
              "\n",
              "// Max number of bytes which will be uploaded at a time.\n",
              "const MAX_PAYLOAD_SIZE = 100 * 1024;\n",
              "\n",
              "function _uploadFiles(inputId, outputId) {\n",
              "  const steps = uploadFilesStep(inputId, outputId);\n",
              "  const outputElement = document.getElementById(outputId);\n",
              "  // Cache steps on the outputElement to make it available for the next call\n",
              "  // to uploadFilesContinue from Python.\n",
              "  outputElement.steps = steps;\n",
              "\n",
              "  return _uploadFilesContinue(outputId);\n",
              "}\n",
              "\n",
              "// This is roughly an async generator (not supported in the browser yet),\n",
              "// where there are multiple asynchronous steps and the Python side is going\n",
              "// to poll for completion of each step.\n",
              "// This uses a Promise to block the python side on completion of each step,\n",
              "// then passes the result of the previous step as the input to the next step.\n",
              "function _uploadFilesContinue(outputId) {\n",
              "  const outputElement = document.getElementById(outputId);\n",
              "  const steps = outputElement.steps;\n",
              "\n",
              "  const next = steps.next(outputElement.lastPromiseValue);\n",
              "  return Promise.resolve(next.value.promise).then((value) => {\n",
              "    // Cache the last promise value to make it available to the next\n",
              "    // step of the generator.\n",
              "    outputElement.lastPromiseValue = value;\n",
              "    return next.value.response;\n",
              "  });\n",
              "}\n",
              "\n",
              "/**\n",
              " * Generator function which is called between each async step of the upload\n",
              " * process.\n",
              " * @param {string} inputId Element ID of the input file picker element.\n",
              " * @param {string} outputId Element ID of the output display.\n",
              " * @return {!Iterable<!Object>} Iterable of next steps.\n",
              " */\n",
              "function* uploadFilesStep(inputId, outputId) {\n",
              "  const inputElement = document.getElementById(inputId);\n",
              "  inputElement.disabled = false;\n",
              "\n",
              "  const outputElement = document.getElementById(outputId);\n",
              "  outputElement.innerHTML = '';\n",
              "\n",
              "  const pickedPromise = new Promise((resolve) => {\n",
              "    inputElement.addEventListener('change', (e) => {\n",
              "      resolve(e.target.files);\n",
              "    });\n",
              "  });\n",
              "\n",
              "  const cancel = document.createElement('button');\n",
              "  inputElement.parentElement.appendChild(cancel);\n",
              "  cancel.textContent = 'Cancel upload';\n",
              "  const cancelPromise = new Promise((resolve) => {\n",
              "    cancel.onclick = () => {\n",
              "      resolve(null);\n",
              "    };\n",
              "  });\n",
              "\n",
              "  // Wait for the user to pick the files.\n",
              "  const files = yield {\n",
              "    promise: Promise.race([pickedPromise, cancelPromise]),\n",
              "    response: {\n",
              "      action: 'starting',\n",
              "    }\n",
              "  };\n",
              "\n",
              "  cancel.remove();\n",
              "\n",
              "  // Disable the input element since further picks are not allowed.\n",
              "  inputElement.disabled = true;\n",
              "\n",
              "  if (!files) {\n",
              "    return {\n",
              "      response: {\n",
              "        action: 'complete',\n",
              "      }\n",
              "    };\n",
              "  }\n",
              "\n",
              "  for (const file of files) {\n",
              "    const li = document.createElement('li');\n",
              "    li.append(span(file.name, {fontWeight: 'bold'}));\n",
              "    li.append(span(\n",
              "        `(${file.type || 'n/a'}) - ${file.size} bytes, ` +\n",
              "        `last modified: ${\n",
              "            file.lastModifiedDate ? file.lastModifiedDate.toLocaleDateString() :\n",
              "                                    'n/a'} - `));\n",
              "    const percent = span('0% done');\n",
              "    li.appendChild(percent);\n",
              "\n",
              "    outputElement.appendChild(li);\n",
              "\n",
              "    const fileDataPromise = new Promise((resolve) => {\n",
              "      const reader = new FileReader();\n",
              "      reader.onload = (e) => {\n",
              "        resolve(e.target.result);\n",
              "      };\n",
              "      reader.readAsArrayBuffer(file);\n",
              "    });\n",
              "    // Wait for the data to be ready.\n",
              "    let fileData = yield {\n",
              "      promise: fileDataPromise,\n",
              "      response: {\n",
              "        action: 'continue',\n",
              "      }\n",
              "    };\n",
              "\n",
              "    // Use a chunked sending to avoid message size limits. See b/62115660.\n",
              "    let position = 0;\n",
              "    do {\n",
              "      const length = Math.min(fileData.byteLength - position, MAX_PAYLOAD_SIZE);\n",
              "      const chunk = new Uint8Array(fileData, position, length);\n",
              "      position += length;\n",
              "\n",
              "      const base64 = btoa(String.fromCharCode.apply(null, chunk));\n",
              "      yield {\n",
              "        response: {\n",
              "          action: 'append',\n",
              "          file: file.name,\n",
              "          data: base64,\n",
              "        },\n",
              "      };\n",
              "\n",
              "      let percentDone = fileData.byteLength === 0 ?\n",
              "          100 :\n",
              "          Math.round((position / fileData.byteLength) * 100);\n",
              "      percent.textContent = `${percentDone}% done`;\n",
              "\n",
              "    } while (position < fileData.byteLength);\n",
              "  }\n",
              "\n",
              "  // All done.\n",
              "  yield {\n",
              "    response: {\n",
              "      action: 'complete',\n",
              "    }\n",
              "  };\n",
              "}\n",
              "\n",
              "scope.google = scope.google || {};\n",
              "scope.google.colab = scope.google.colab || {};\n",
              "scope.google.colab._files = {\n",
              "  _uploadFiles,\n",
              "  _uploadFilesContinue,\n",
              "};\n",
              "})(self);\n",
              "</script> "
            ]
          },
          "metadata": {}
        },
        {
          "output_type": "stream",
          "name": "stdout",
          "text": [
            "Saving input2.txt to input2.txt\n"
          ]
        }
      ],
      "source": [
        "import numpy as np\n",
        "from google.colab import files\n",
        "input = files.upload()"
      ]
    },
    {
      "cell_type": "code",
      "source": [
        "# Read input file and convert to list of rounds\n",
        "file = open(\"input2.txt\", \"r\")\n",
        "rounds = file.read().splitlines()\n",
        "rounds = [item.split(' ') for item in rounds]\n",
        "print(rounds)"
      ],
      "metadata": {
        "colab": {
          "base_uri": "https://localhost:8080/"
        },
        "id": "H61vuPWtPgJy",
        "outputId": "02ebbb78-7e98-4636-af8f-09e8223df7e8"
      },
      "execution_count": null,
      "outputs": [
        {
          "output_type": "stream",
          "name": "stdout",
          "text": [
            "[['B', 'X'], ['B', 'Y'], ['A', 'Y'], ['B', 'Y'], ['B', 'Y'], ['A', 'Y'], ['A', 'X'], ['A', 'Y'], ['C', 'X'], ['A', 'Y'], ['A', 'Y'], ['B', 'Y'], ['B', 'Z'], ['A', 'Y'], ['B', 'Z'], ['B', 'Z'], ['B', 'Z'], ['B', 'Y'], ['A', 'Z'], ['A', 'Y'], ['B', 'X'], ['A', 'Z'], ['A', 'Z'], ['A', 'Z'], ['B', 'Z'], ['A', 'Y'], ['A', 'Z'], ['C', 'X'], ['B', 'Z'], ['A', 'Y'], ['B', 'Z'], ['B', 'Y'], ['A', 'Y'], ['A', 'Y'], ['A', 'Y'], ['A', 'Y'], ['A', 'Z'], ['C', 'X'], ['C', 'Z'], ['A', 'Y'], ['A', 'Y'], ['A', 'X'], ['C', 'X'], ['B', 'Z'], ['B', 'Y'], ['B', 'Y'], ['A', 'Y'], ['C', 'X'], ['A', 'Y'], ['B', 'Z'], ['B', 'Z'], ['A', 'Y'], ['B', 'Y'], ['B', 'Z'], ['A', 'Y'], ['C', 'X'], ['B', 'Y'], ['A', 'Y'], ['A', 'Y'], ['A', 'Y'], ['A', 'Y'], ['B', 'Z'], ['B', 'X'], ['A', 'Y'], ['B', 'Y'], ['A', 'Z'], ['B', 'Y'], ['A', 'Y'], ['C', 'X'], ['A', 'Z'], ['C', 'Z'], ['B', 'Z'], ['B', 'Y'], ['A', 'Y'], ['A', 'Y'], ['B', 'Z'], ['B', 'Y'], ['B', 'Y'], ['B', 'Y'], ['B', 'Z'], ['A', 'X'], ['A', 'Y'], ['A', 'Y'], ['B', 'Z'], ['C', 'X'], ['A', 'Y'], ['B', 'Y'], ['C', 'Z'], ['A', 'Y'], ['C', 'Y'], ['A', 'Y'], ['A', 'Y'], ['C', 'X'], ['A', 'X'], ['A', 'Z'], ['A', 'Y'], ['B', 'Z'], ['A', 'Z'], ['B', 'Z'], ['A', 'Y'], ['B', 'Z'], ['A', 'Y'], ['A', 'Z'], ['C', 'X'], ['C', 'X'], ['B', 'Y'], ['A', 'Y'], ['A', 'Y'], ['A', 'Y'], ['A', 'X'], ['B', 'Y'], ['B', 'Y'], ['A', 'Y'], ['A', 'Y'], ['A', 'Z'], ['A', 'Y'], ['A', 'Z'], ['B', 'Z'], ['A', 'Y'], ['B', 'Z'], ['A', 'Z'], ['C', 'Z'], ['B', 'Y'], ['A', 'Y'], ['B', 'Z'], ['A', 'Y'], ['B', 'Z'], ['A', 'Y'], ['A', 'Y'], ['A', 'X'], ['B', 'Y'], ['A', 'Z'], ['C', 'Z'], ['A', 'Y'], ['B', 'Z'], ['A', 'Y'], ['A', 'Y'], ['A', 'Y'], ['B', 'Y'], ['B', 'Z'], ['B', 'X'], ['C', 'X'], ['B', 'Z'], ['B', 'Y'], ['C', 'X'], ['A', 'X'], ['A', 'Y'], ['B', 'X'], ['C', 'X'], ['B', 'Y'], ['A', 'Z'], ['A', 'Z'], ['A', 'Y'], ['B', 'Z'], ['B', 'Y'], ['C', 'Z'], ['B', 'Z'], ['A', 'Y'], ['B', 'Z'], ['C', 'Y'], ['B', 'Y'], ['A', 'X'], ['A', 'X'], ['C', 'X'], ['B', 'X'], ['A', 'Y'], ['C', 'X'], ['B', 'Z'], ['A', 'Y'], ['A', 'Z'], ['B', 'Y'], ['B', 'Y'], ['B', 'Y'], ['C', 'X'], ['A', 'Y'], ['A', 'Y'], ['B', 'X'], ['C', 'Y'], ['A', 'X'], ['B', 'Y'], ['B', 'Y'], ['A', 'Y'], ['A', 'Y'], ['B', 'Z'], ['B', 'X'], ['A', 'X'], ['C', 'X'], ['B', 'Y'], ['B', 'Y'], ['B', 'Z'], ['B', 'Y'], ['B', 'X'], ['B', 'Z'], ['A', 'Y'], ['A', 'Y'], ['A', 'X'], ['B', 'Y'], ['A', 'Y'], ['A', 'Y'], ['B', 'Z'], ['A', 'Y'], ['C', 'X'], ['B', 'Y'], ['B', 'Z'], ['C', 'Z'], ['B', 'Y'], ['A', 'Y'], ['A', 'Z'], ['B', 'Y'], ['A', 'Y'], ['B', 'Z'], ['C', 'Y'], ['A', 'Y'], ['A', 'Y'], ['A', 'Y'], ['B', 'Y'], ['A', 'Z'], ['B', 'Z'], ['A', 'Y'], ['C', 'X'], ['B', 'Y'], ['B', 'Z'], ['A', 'Y'], ['A', 'Z'], ['A', 'Y'], ['B', 'Y'], ['B', 'Z'], ['A', 'X'], ['B', 'Y'], ['A', 'Y'], ['A', 'Y'], ['B', 'Y'], ['A', 'Y'], ['A', 'Y'], ['C', 'Z'], ['B', 'Z'], ['C', 'X'], ['B', 'Z'], ['A', 'Y'], ['B', 'Y'], ['B', 'Y'], ['A', 'X'], ['A', 'Y'], ['C', 'X'], ['B', 'Z'], ['B', 'Y'], ['A', 'X'], ['B', 'Z'], ['B', 'Y'], ['B', 'Z'], ['A', 'Z'], ['A', 'X'], ['A', 'Y'], ['A', 'Y'], ['B', 'Y'], ['A', 'X'], ['B', 'Y'], ['B', 'Y'], ['B', 'Z'], ['B', 'Y'], ['B', 'Y'], ['B', 'Y'], ['A', 'Y'], ['A', 'Z'], ['A', 'X'], ['A', 'X'], ['C', 'Z'], ['B', 'Y'], ['A', 'Z'], ['A', 'Y'], ['A', 'Y'], ['A', 'X'], ['B', 'Y'], ['B', 'Z'], ['C', 'X'], ['A', 'Y'], ['B', 'Y'], ['C', 'X'], ['B', 'Z'], ['A', 'Y'], ['B', 'Z'], ['B', 'Z'], ['B', 'Y'], ['A', 'Z'], ['C', 'Z'], ['B', 'Y'], ['A', 'Y'], ['B', 'Y'], ['A', 'Y'], ['B', 'X'], ['A', 'X'], ['B', 'X'], ['B', 'Z'], ['A', 'Y'], ['B', 'Y'], ['B', 'X'], ['B', 'Y'], ['B', 'Z'], ['A', 'Z'], ['B', 'Y'], ['C', 'Z'], ['B', 'Z'], ['A', 'Y'], ['B', 'Z'], ['C', 'X'], ['B', 'Y'], ['B', 'Z'], ['B', 'Z'], ['A', 'Y'], ['A', 'Z'], ['A', 'Z'], ['B', 'Y'], ['C', 'Y'], ['A', 'Y'], ['A', 'Y'], ['A', 'X'], ['A', 'X'], ['A', 'Y'], ['B', 'Y'], ['B', 'Y'], ['B', 'Z'], ['A', 'X'], ['B', 'Z'], ['B', 'Y'], ['B', 'Z'], ['C', 'Z'], ['A', 'Y'], ['C', 'X'], ['C', 'X'], ['B', 'Z'], ['B', 'Z'], ['B', 'Y'], ['A', 'Y'], ['A', 'Y'], ['A', 'Y'], ['B', 'Z'], ['B', 'Y'], ['A', 'X'], ['B', 'Z'], ['B', 'Y'], ['B', 'X'], ['B', 'Z'], ['B', 'Z'], ['A', 'Z'], ['B', 'Y'], ['B', 'Z'], ['A', 'Y'], ['B', 'X'], ['A', 'Y'], ['A', 'Y'], ['A', 'Y'], ['B', 'Y'], ['A', 'Y'], ['A', 'Z'], ['A', 'Y'], ['A', 'Y'], ['C', 'X'], ['A', 'Y'], ['B', 'Y'], ['B', 'Y'], ['A', 'Y'], ['B', 'Z'], ['B', 'X'], ['A', 'Y'], ['B', 'Y'], ['A', 'Y'], ['A', 'X'], ['C', 'X'], ['B', 'Z'], ['A', 'Y'], ['B', 'Z'], ['C', 'X'], ['B', 'Z'], ['A', 'X'], ['A', 'Z'], ['A', 'X'], ['B', 'Z'], ['B', 'Y'], ['A', 'Y'], ['A', 'Z'], ['C', 'Z'], ['B', 'Z'], ['A', 'Y'], ['A', 'Z'], ['A', 'Y'], ['A', 'Y'], ['B', 'Z'], ['B', 'Z'], ['A', 'X'], ['A', 'Y'], ['A', 'X'], ['B', 'Z'], ['A', 'Y'], ['C', 'X'], ['B', 'Y'], ['A', 'X'], ['B', 'Y'], ['B', 'Y'], ['B', 'Y'], ['A', 'Y'], ['A', 'Z'], ['B', 'Y'], ['A', 'Y'], ['B', 'Z'], ['B', 'Z'], ['B', 'Z'], ['B', 'Z'], ['A', 'X'], ['A', 'X'], ['A', 'X'], ['B', 'X'], ['C', 'Y'], ['C', 'X'], ['A', 'Z'], ['B', 'X'], ['B', 'Y'], ['A', 'Z'], ['A', 'X'], ['A', 'Y'], ['A', 'Y'], ['A', 'Y'], ['B', 'Y'], ['A', 'Y'], ['B', 'Z'], ['B', 'Y'], ['A', 'Y'], ['A', 'Y'], ['A', 'Y'], ['B', 'Z'], ['B', 'Y'], ['B', 'Z'], ['C', 'X'], ['B', 'Z'], ['B', 'Z'], ['A', 'Z'], ['B', 'Y'], ['A', 'Y'], ['A', 'Y'], ['B', 'Z'], ['A', 'Y'], ['B', 'X'], ['A', 'X'], ['A', 'Y'], ['A', 'Y'], ['A', 'Y'], ['C', 'X'], ['B', 'Y'], ['B', 'Y'], ['B', 'Y'], ['C', 'Y'], ['A', 'Y'], ['A', 'Y'], ['A', 'Y'], ['B', 'Z'], ['B', 'Z'], ['A', 'X'], ['B', 'Y'], ['B', 'Y'], ['B', 'Y'], ['B', 'Z'], ['A', 'Z'], ['B', 'X'], ['A', 'Y'], ['A', 'X'], ['B', 'Z'], ['A', 'Y'], ['B', 'Z'], ['B', 'Y'], ['A', 'Z'], ['B', 'Y'], ['C', 'X'], ['A', 'Y'], ['C', 'X'], ['B', 'Y'], ['C', 'X'], ['C', 'X'], ['B', 'Y'], ['B', 'Y'], ['B', 'Z'], ['B', 'Y'], ['A', 'Y'], ['C', 'Y'], ['A', 'X'], ['B', 'Y'], ['B', 'Y'], ['B', 'Z'], ['B', 'Y'], ['B', 'X'], ['B', 'Z'], ['B', 'Y'], ['B', 'X'], ['B', 'Y'], ['B', 'Z'], ['A', 'Y'], ['B', 'X'], ['B', 'Z'], ['B', 'Z'], ['B', 'X'], ['B', 'Z'], ['A', 'Y'], ['C', 'X'], ['A', 'Y'], ['C', 'Y'], ['B', 'Z'], ['A', 'X'], ['A', 'Y'], ['A', 'X'], ['C', 'X'], ['A', 'Z'], ['A', 'Y'], ['A', 'Z'], ['A', 'Y'], ['C', 'Y'], ['B', 'Z'], ['A', 'Y'], ['B', 'Y'], ['B', 'Y'], ['B', 'Y'], ['B', 'Y'], ['A', 'Y'], ['C', 'Z'], ['B', 'Y'], ['C', 'Y'], ['B', 'Y'], ['B', 'X'], ['A', 'Z'], ['A', 'Y'], ['A', 'Z'], ['A', 'Y'], ['B', 'Z'], ['B', 'Y'], ['B', 'Y'], ['A', 'Z'], ['B', 'Y'], ['A', 'Y'], ['B', 'Z'], ['C', 'Z'], ['A', 'Y'], ['A', 'Y'], ['B', 'Z'], ['B', 'Y'], ['A', 'X'], ['A', 'Y'], ['B', 'Z'], ['A', 'Z'], ['B', 'Y'], ['A', 'Z'], ['A', 'X'], ['B', 'Z'], ['B', 'Z'], ['A', 'Y'], ['A', 'X'], ['A', 'Y'], ['B', 'X'], ['B', 'Y'], ['B', 'Z'], ['B', 'Y'], ['C', 'Z'], ['B', 'Y'], ['C', 'X'], ['A', 'Z'], ['C', 'X'], ['B', 'Y'], ['A', 'Y'], ['B', 'Y'], ['C', 'Z'], ['A', 'Y'], ['C', 'X'], ['C', 'X'], ['A', 'Y'], ['A', 'Z'], ['B', 'Y'], ['A', 'Y'], ['B', 'Z'], ['B', 'Z'], ['A', 'Z'], ['B', 'X'], ['B', 'Y'], ['C', 'X'], ['A', 'Y'], ['B', 'Y'], ['B', 'Z'], ['A', 'Z'], ['B', 'Y'], ['A', 'X'], ['B', 'Z'], ['A', 'X'], ['A', 'X'], ['B', 'X'], ['B', 'Y'], ['B', 'Y'], ['B', 'Y'], ['C', 'X'], ['C', 'Z'], ['A', 'Y'], ['B', 'Y'], ['A', 'Y'], ['A', 'X'], ['B', 'Z'], ['A', 'X'], ['A', 'Y'], ['B', 'Y'], ['B', 'Y'], ['C', 'Y'], ['A', 'Y'], ['B', 'Z'], ['A', 'Y'], ['B', 'X'], ['B', 'Z'], ['A', 'Y'], ['A', 'Y'], ['B', 'Y'], ['A', 'X'], ['B', 'Y'], ['B', 'Z'], ['A', 'Y'], ['A', 'X'], ['C', 'Y'], ['B', 'Z'], ['B', 'Y'], ['B', 'Z'], ['A', 'Y'], ['B', 'Y'], ['A', 'X'], ['B', 'Z'], ['A', 'Z'], ['B', 'Z'], ['B', 'Y'], ['B', 'Y'], ['C', 'Y'], ['B', 'Y'], ['B', 'Y'], ['A', 'Y'], ['B', 'Z'], ['A', 'Y'], ['A', 'Y'], ['B', 'Z'], ['A', 'X'], ['A', 'Z'], ['B', 'Y'], ['A', 'Y'], ['A', 'Y'], ['A', 'Y'], ['B', 'Z'], ['B', 'X'], ['C', 'X'], ['A', 'Y'], ['B', 'Y'], ['C', 'Z'], ['A', 'Y'], ['B', 'Y'], ['A', 'X'], ['A', 'Y'], ['A', 'Y'], ['A', 'Z'], ['B', 'Y'], ['A', 'Y'], ['A', 'Y'], ['B', 'Y'], ['B', 'Z'], ['A', 'Y'], ['A', 'Z'], ['B', 'Y'], ['A', 'Z'], ['A', 'Y'], ['A', 'X'], ['B', 'Y'], ['C', 'X'], ['B', 'Z'], ['A', 'Y'], ['A', 'Y'], ['B', 'Y'], ['B', 'X'], ['B', 'Z'], ['A', 'Y'], ['C', 'X'], ['B', 'Y'], ['A', 'Y'], ['B', 'Y'], ['B', 'Z'], ['C', 'X'], ['A', 'X'], ['B', 'Z'], ['A', 'Y'], ['A', 'Y'], ['A', 'Y'], ['A', 'Y'], ['B', 'Z'], ['B', 'Z'], ['B', 'Y'], ['B', 'Z'], ['A', 'Y'], ['C', 'X'], ['A', 'Y'], ['B', 'Y'], ['B', 'Z'], ['C', 'X'], ['C', 'Z'], ['B', 'Z'], ['B', 'Z'], ['A', 'X'], ['B', 'Z'], ['B', 'Z'], ['A', 'Y'], ['A', 'Y'], ['A', 'Y'], ['B', 'Y'], ['B', 'Y'], ['C', 'Y'], ['C', 'Z'], ['A', 'Y'], ['B', 'Y'], ['B', 'Z'], ['B', 'Z'], ['C', 'X'], ['C', 'Z'], ['A', 'Y'], ['A', 'Y'], ['A', 'Z'], ['A', 'Y'], ['B', 'Y'], ['A', 'Y'], ['A', 'Y'], ['B', 'Z'], ['A', 'Y'], ['B', 'Z'], ['A', 'X'], ['B', 'Y'], ['B', 'Z'], ['B', 'Y'], ['B', 'Y'], ['C', 'X'], ['C', 'X'], ['A', 'Y'], ['B', 'Z'], ['B', 'Y'], ['B', 'Y'], ['A', 'Z'], ['B', 'Z'], ['B', 'Y'], ['A', 'Y'], ['B', 'Z'], ['A', 'Y'], ['B', 'X'], ['B', 'Z'], ['A', 'Y'], ['A', 'Y'], ['B', 'Z'], ['B', 'Z'], ['C', 'X'], ['A', 'X'], ['B', 'Y'], ['B', 'Y'], ['A', 'Y'], ['C', 'X'], ['A', 'Z'], ['B', 'Z'], ['A', 'Z'], ['A', 'X'], ['A', 'Y'], ['A', 'X'], ['A', 'Y'], ['A', 'Y'], ['C', 'X'], ['C', 'X'], ['B', 'Z'], ['B', 'Y'], ['C', 'Y'], ['A', 'Y'], ['A', 'Y'], ['C', 'X'], ['A', 'X'], ['C', 'X'], ['A', 'Y'], ['B', 'Y'], ['B', 'Y'], ['C', 'X'], ['A', 'X'], ['A', 'Y'], ['B', 'Z'], ['C', 'X'], ['A', 'Y'], ['B', 'Y'], ['A', 'Y'], ['A', 'X'], ['B', 'Y'], ['A', 'X'], ['B', 'Y'], ['B', 'Z'], ['A', 'Y'], ['B', 'Z'], ['A', 'Y'], ['A', 'X'], ['B', 'Z'], ['A', 'Z'], ['A', 'Y'], ['B', 'Z'], ['B', 'Y'], ['A', 'X'], ['A', 'Y'], ['A', 'Y'], ['B', 'Y'], ['C', 'Z'], ['A', 'Y'], ['A', 'Y'], ['B', 'Z'], ['B', 'Y'], ['B', 'Y'], ['B', 'Y'], ['A', 'Y'], ['C', 'Z'], ['C', 'Y'], ['A', 'X'], ['B', 'Y'], ['B', 'Y'], ['B', 'Z'], ['C', 'Y'], ['B', 'X'], ['B', 'Z'], ['A', 'Y'], ['A', 'Y'], ['B', 'Z'], ['B', 'Z'], ['B', 'Z'], ['B', 'Y'], ['B', 'Y'], ['B', 'Z'], ['C', 'Y'], ['B', 'Z'], ['B', 'Y'], ['B', 'Z'], ['A', 'X'], ['A', 'Y'], ['C', 'X'], ['B', 'Y'], ['B', 'Z'], ['B', 'Z'], ['A', 'Y'], ['A', 'Y'], ['A', 'Y'], ['B', 'Y'], ['A', 'Y'], ['A', 'Y'], ['A', 'Y'], ['B', 'Z'], ['A', 'Y'], ['B', 'Z'], ['B', 'Z'], ['B', 'X'], ['B', 'Y'], ['B', 'Y'], ['A', 'Y'], ['B', 'Y'], ['B', 'Y'], ['A', 'Y'], ['A', 'X'], ['B', 'Z'], ['A', 'Y'], ['B', 'Z'], ['C', 'X'], ['A', 'Y'], ['A', 'Y'], ['B', 'Z'], ['B', 'Z'], ['C', 'X'], ['C', 'Z'], ['A', 'Y'], ['B', 'Z'], ['C', 'Z'], ['B', 'Y'], ['B', 'Y'], ['B', 'Z'], ['A', 'Z'], ['A', 'Y'], ['A', 'Y'], ['B', 'Y'], ['C', 'Y'], ['A', 'Y'], ['A', 'Y'], ['B', 'Z'], ['B', 'Z'], ['A', 'X'], ['A', 'Y'], ['B', 'Y'], ['A', 'Y'], ['A', 'Y'], ['A', 'X'], ['A', 'X'], ['B', 'Z'], ['C', 'Y'], ['B', 'Y'], ['A', 'Y'], ['C', 'X'], ['B', 'Y'], ['B', 'Y'], ['C', 'Z'], ['B', 'Y'], ['A', 'Z'], ['A', 'Y'], ['A', 'X'], ['C', 'X'], ['A', 'Y'], ['A', 'Y'], ['B', 'Z'], ['A', 'X'], ['B', 'Z'], ['C', 'X'], ['C', 'X'], ['A', 'Y'], ['B', 'Z'], ['B', 'Y'], ['A', 'Y'], ['A', 'X'], ['C', 'X'], ['B', 'Z'], ['B', 'Z'], ['B', 'Y'], ['A', 'Y'], ['B', 'Z'], ['C', 'Y'], ['A', 'Y'], ['B', 'Y'], ['A', 'Y'], ['C', 'X'], ['B', 'Z'], ['C', 'X'], ['A', 'Y'], ['B', 'Y'], ['A', 'Z'], ['A', 'Y'], ['B', 'X'], ['B', 'Z'], ['C', 'Z'], ['B', 'Y'], ['B', 'Y'], ['B', 'Z'], ['C', 'Z'], ['A', 'X'], ['B', 'Z'], ['A', 'Y'], ['A', 'Y'], ['B', 'Z'], ['A', 'Y'], ['B', 'Z'], ['B', 'Z'], ['B', 'Y'], ['B', 'Y'], ['B', 'X'], ['A', 'Y'], ['A', 'X'], ['B', 'Y'], ['B', 'Y'], ['A', 'Y'], ['A', 'Y'], ['B', 'Z'], ['A', 'Y'], ['A', 'X'], ['C', 'X'], ['B', 'Z'], ['B', 'Y'], ['A', 'Y'], ['B', 'Z'], ['B', 'Y'], ['B', 'Z'], ['B', 'Z'], ['B', 'Y'], ['A', 'Y'], ['C', 'Y'], ['A', 'X'], ['B', 'Y'], ['A', 'Y'], ['B', 'Z'], ['B', 'Y'], ['B', 'Z'], ['A', 'Y'], ['C', 'Z'], ['B', 'X'], ['C', 'Z'], ['B', 'X'], ['B', 'Y'], ['A', 'Y'], ['C', 'X'], ['A', 'Y'], ['A', 'Y'], ['A', 'X'], ['C', 'X'], ['A', 'Z'], ['B', 'Y'], ['A', 'X'], ['A', 'Z'], ['B', 'Y'], ['A', 'X'], ['B', 'Y'], ['A', 'X'], ['A', 'Y'], ['B', 'Y'], ['A', 'Y'], ['A', 'Y'], ['C', 'X'], ['C', 'X'], ['C', 'Y'], ['B', 'Y'], ['C', 'Z'], ['B', 'Y'], ['B', 'Z'], ['C', 'Z'], ['B', 'Y'], ['A', 'Z'], ['A', 'Y'], ['A', 'X'], ['A', 'X'], ['A', 'Z'], ['A', 'Y'], ['A', 'Z'], ['B', 'Z'], ['B', 'X'], ['B', 'Y'], ['B', 'Y'], ['B', 'Z'], ['A', 'Y'], ['A', 'Y'], ['B', 'Y'], ['A', 'X'], ['A', 'Y'], ['A', 'Y'], ['B', 'Z'], ['C', 'X'], ['C', 'X'], ['B', 'Y'], ['A', 'Y'], ['C', 'X'], ['C', 'X'], ['A', 'X'], ['C', 'X'], ['A', 'Y'], ['A', 'Z'], ['A', 'Z'], ['C', 'X'], ['A', 'Y'], ['B', 'Z'], ['B', 'Y'], ['B', 'Z'], ['C', 'X'], ['B', 'Z'], ['A', 'Y'], ['C', 'Y'], ['C', 'X'], ['B', 'Y'], ['C', 'Z'], ['A', 'X'], ['C', 'X'], ['C', 'X'], ['A', 'X'], ['B', 'Y'], ['A', 'X'], ['B', 'Z'], ['B', 'Y'], ['A', 'Z'], ['B', 'Y'], ['A', 'X'], ['A', 'Y'], ['B', 'Z'], ['B', 'Y'], ['C', 'Z'], ['B', 'Y'], ['B', 'Y'], ['B', 'Z'], ['A', 'X'], ['A', 'Z'], ['B', 'Y'], ['B', 'Y'], ['C', 'Z'], ['A', 'Y'], ['C', 'X'], ['B', 'Z'], ['C', 'Y'], ['B', 'Z'], ['A', 'Y'], ['B', 'Y'], ['B', 'Z'], ['A', 'Y'], ['A', 'Y'], ['B', 'Z'], ['A', 'Z'], ['A', 'Z'], ['C', 'X'], ['B', 'Y'], ['A', 'Y'], ['A', 'Y'], ['B', 'Z'], ['B', 'Y'], ['A', 'X'], ['A', 'Z'], ['B', 'Z'], ['C', 'Z'], ['A', 'Y'], ['B', 'Y'], ['B', 'X'], ['C', 'X'], ['A', 'Y'], ['B', 'Y'], ['C', 'Z'], ['A', 'Z'], ['C', 'X'], ['C', 'X'], ['A', 'Y'], ['B', 'Y'], ['B', 'X'], ['B', 'Y'], ['A', 'X'], ['A', 'X'], ['A', 'X'], ['A', 'Z'], ['A', 'X'], ['B', 'Z'], ['B', 'Z'], ['A', 'Z'], ['A', 'Z'], ['A', 'Y'], ['B', 'Y'], ['B', 'Z'], ['A', 'Z'], ['B', 'Z'], ['B', 'Z'], ['A', 'Y'], ['B', 'Y'], ['A', 'Y'], ['A', 'Y'], ['A', 'Y'], ['C', 'X'], ['B', 'Y'], ['C', 'X'], ['C', 'X'], ['B', 'Z'], ['C', 'Y'], ['A', 'X'], ['B', 'Y'], ['B', 'X'], ['C', 'X'], ['B', 'X'], ['A', 'Z'], ['C', 'X'], ['C', 'X'], ['B', 'Y'], ['A', 'Y'], ['B', 'Y'], ['B', 'Y'], ['B', 'Y'], ['B', 'X'], ['B', 'Y'], ['B', 'Y'], ['A', 'Y'], ['B', 'Y'], ['B', 'X'], ['B', 'Y'], ['B', 'Z'], ['A', 'Z'], ['A', 'Y'], ['A', 'Y'], ['B', 'Z'], ['A', 'Y'], ['B', 'Z'], ['A', 'Y'], ['A', 'Y'], ['A', 'Y'], ['A', 'Z'], ['B', 'Y'], ['A', 'X'], ['B', 'Z'], ['A', 'Y'], ['B', 'Y'], ['A', 'X'], ['B', 'Z'], ['B', 'Z'], ['A', 'Y'], ['B', 'Y'], ['B', 'Y'], ['B', 'Z'], ['A', 'Y'], ['B', 'Y'], ['B', 'Y'], ['A', 'Y'], ['A', 'Y'], ['A', 'Z'], ['C', 'Y'], ['B', 'Z'], ['B', 'Y'], ['A', 'X'], ['A', 'Y'], ['B', 'Z'], ['C', 'X'], ['B', 'Z'], ['C', 'X'], ['C', 'X'], ['B', 'Z'], ['B', 'Y'], ['C', 'X'], ['A', 'Z'], ['A', 'Z'], ['C', 'Y'], ['A', 'Y'], ['B', 'Y'], ['A', 'Z'], ['A', 'Y'], ['B', 'Y'], ['A', 'Y'], ['A', 'Z'], ['A', 'Y'], ['A', 'Y'], ['C', 'X'], ['B', 'Y'], ['B', 'Y'], ['B', 'Y'], ['A', 'X'], ['C', 'Z'], ['B', 'Z'], ['A', 'X'], ['A', 'Y'], ['A', 'Z'], ['A', 'Y'], ['B', 'Y'], ['A', 'Y'], ['B', 'Z'], ['B', 'Y'], ['B', 'Z'], ['C', 'X'], ['B', 'Y'], ['B', 'Z'], ['A', 'Z'], ['B', 'Y'], ['B', 'Y'], ['B', 'Z'], ['C', 'X'], ['A', 'Y'], ['B', 'Y'], ['A', 'Z'], ['B', 'Y'], ['B', 'Z'], ['B', 'Z'], ['B', 'Y'], ['A', 'X'], ['A', 'Y'], ['A', 'Y'], ['B', 'Y'], ['B', 'Z'], ['B', 'Y'], ['B', 'Z'], ['A', 'Y'], ['C', 'Y'], ['A', 'Y'], ['B', 'Z'], ['A', 'Y'], ['B', 'Z'], ['A', 'X'], ['A', 'Y'], ['A', 'Y'], ['C', 'Y'], ['C', 'X'], ['B', 'Y'], ['A', 'Z'], ['B', 'Z'], ['B', 'Z'], ['B', 'Y'], ['B', 'Z'], ['C', 'Z'], ['C', 'X'], ['A', 'Y'], ['B', 'Y'], ['B', 'Y'], ['B', 'Y'], ['B', 'Y'], ['B', 'Z'], ['B', 'Z'], ['B', 'Y'], ['A', 'X'], ['A', 'Y'], ['B', 'Y'], ['A', 'Y'], ['A', 'X'], ['A', 'Y'], ['B', 'Z'], ['C', 'Z'], ['B', 'Y'], ['A', 'Y'], ['A', 'Y'], ['A', 'Y'], ['C', 'X'], ['A', 'Y'], ['B', 'Z'], ['C', 'Z'], ['B', 'Y'], ['B', 'Z'], ['A', 'Z'], ['A', 'X'], ['A', 'Y'], ['A', 'Y'], ['A', 'Y'], ['A', 'Y'], ['B', 'Z'], ['B', 'Z'], ['B', 'Z'], ['B', 'Z'], ['A', 'X'], ['B', 'Y'], ['B', 'Y'], ['B', 'Y'], ['B', 'Y'], ['B', 'Y'], ['B', 'Z'], ['A', 'X'], ['B', 'Y'], ['B', 'Y'], ['B', 'Y'], ['C', 'Y'], ['A', 'Y'], ['A', 'Y'], ['B', 'Z'], ['A', 'X'], ['C', 'Y'], ['A', 'Y'], ['A', 'Y'], ['A', 'Y'], ['B', 'Y'], ['B', 'Z'], ['A', 'Y'], ['B', 'Y'], ['B', 'Y'], ['A', 'Y'], ['B', 'Y'], ['A', 'Y'], ['A', 'X'], ['A', 'Y'], ['C', 'Z'], ['B', 'Z'], ['B', 'Y'], ['A', 'Y'], ['B', 'Y'], ['B', 'Y'], ['A', 'Z'], ['C', 'X'], ['B', 'Y'], ['B', 'Z'], ['C', 'Y'], ['A', 'Y'], ['A', 'Y'], ['B', 'X'], ['B', 'Y'], ['A', 'Y'], ['C', 'Z'], ['B', 'Y'], ['B', 'Y'], ['A', 'X'], ['A', 'Y'], ['A', 'Z'], ['A', 'Y'], ['C', 'Y'], ['A', 'Y'], ['B', 'X'], ['A', 'Y'], ['B', 'Z'], ['B', 'Y'], ['B', 'Z'], ['A', 'Y'], ['A', 'Y'], ['B', 'Y'], ['B', 'X'], ['B', 'Y'], ['B', 'Z'], ['B', 'Y'], ['B', 'X'], ['A', 'Y'], ['C', 'Z'], ['C', 'X'], ['A', 'Y'], ['B', 'Z'], ['A', 'X'], ['C', 'Z'], ['B', 'Y'], ['B', 'Y'], ['A', 'Y'], ['A', 'Y'], ['B', 'Z'], ['B', 'Z'], ['A', 'X'], ['A', 'X'], ['C', 'X'], ['A', 'X'], ['C', 'X'], ['B', 'Y'], ['B', 'Y'], ['B', 'Y'], ['A', 'Y'], ['B', 'Y'], ['B', 'X'], ['B', 'Z'], ['A', 'Y'], ['A', 'X'], ['A', 'Y'], ['B', 'Z'], ['A', 'X'], ['A', 'Z'], ['B', 'Y'], ['A', 'Y'], ['A', 'Y'], ['B', 'Z'], ['B', 'X'], ['B', 'Z'], ['C', 'Z'], ['B', 'Z'], ['A', 'Y'], ['B', 'Z'], ['A', 'X'], ['A', 'Y'], ['A', 'Y'], ['B', 'Y'], ['B', 'Z'], ['B', 'Y'], ['B', 'X'], ['B', 'Y'], ['A', 'Y'], ['A', 'X'], ['B', 'Y'], ['A', 'X'], ['C', 'X'], ['C', 'X'], ['A', 'X'], ['A', 'Y'], ['A', 'Y'], ['A', 'X'], ['B', 'Y'], ['A', 'X'], ['B', 'Y'], ['A', 'X'], ['B', 'Z'], ['A', 'Y'], ['C', 'X'], ['B', 'Y'], ['A', 'Y'], ['B', 'Z'], ['A', 'Y'], ['B', 'Y'], ['A', 'X'], ['A', 'X'], ['A', 'Y'], ['B', 'Z'], ['B', 'X'], ['C', 'Y'], ['B', 'Z'], ['C', 'Y'], ['A', 'Y'], ['A', 'Y'], ['B', 'Z'], ['C', 'X'], ['B', 'Y'], ['B', 'Z'], ['B', 'Z'], ['C', 'Z'], ['B', 'Z'], ['C', 'Y'], ['A', 'Z'], ['C', 'X'], ['A', 'Y'], ['B', 'Z'], ['A', 'X'], ['B', 'Z'], ['A', 'Y'], ['A', 'Y'], ['B', 'Z'], ['A', 'Z'], ['A', 'Y'], ['B', 'Z'], ['B', 'Z'], ['B', 'Z'], ['B', 'X'], ['A', 'Z'], ['B', 'Y'], ['B', 'Z'], ['B', 'Z'], ['A', 'Y'], ['B', 'Y'], ['A', 'Z'], ['B', 'Z'], ['B', 'Y'], ['B', 'Z'], ['B', 'Y'], ['B', 'Y'], ['B', 'Z'], ['A', 'Y'], ['B', 'Y'], ['B', 'X'], ['A', 'Y'], ['B', 'Y'], ['B', 'Y'], ['B', 'Z'], ['B', 'X'], ['A', 'Z'], ['B', 'Z'], ['A', 'Y'], ['B', 'Y'], ['C', 'X'], ['A', 'Y'], ['B', 'Z'], ['B', 'Y'], ['A', 'Y'], ['C', 'X'], ['B', 'Z'], ['A', 'Y'], ['C', 'X'], ['A', 'X'], ['A', 'Y'], ['B', 'Z'], ['A', 'Z'], ['A', 'Y'], ['B', 'X'], ['A', 'Y'], ['C', 'X'], ['A', 'Y'], ['B', 'Y'], ['B', 'Y'], ['B', 'Z'], ['B', 'X'], ['A', 'Z'], ['B', 'Y'], ['A', 'Y'], ['B', 'Z'], ['A', 'Y'], ['C', 'Y'], ['A', 'Z'], ['A', 'Y'], ['A', 'Y'], ['B', 'Y'], ['B', 'Z'], ['A', 'Y'], ['B', 'Y'], ['A', 'Y'], ['A', 'Y'], ['B', 'Z'], ['B', 'Y'], ['C', 'Z'], ['A', 'Y'], ['B', 'Y'], ['A', 'Z'], ['A', 'X'], ['C', 'X'], ['A', 'Y'], ['B', 'Z'], ['B', 'Z'], ['C', 'X'], ['A', 'Y'], ['B', 'Y'], ['A', 'Y'], ['A', 'X'], ['A', 'Y'], ['A', 'X'], ['A', 'X'], ['C', 'X'], ['B', 'Y'], ['A', 'Y'], ['A', 'Y'], ['B', 'Y'], ['A', 'Z'], ['C', 'Y'], ['A', 'Y'], ['A', 'X'], ['B', 'Z'], ['A', 'Y'], ['A', 'Y'], ['A', 'Y'], ['B', 'Y'], ['C', 'X'], ['A', 'Y'], ['C', 'Z'], ['A', 'Y'], ['C', 'Y'], ['C', 'X'], ['B', 'Y'], ['B', 'Y'], ['C', 'X'], ['C', 'Z'], ['B', 'Z'], ['A', 'Y'], ['A', 'Y'], ['B', 'Y'], ['B', 'Y'], ['A', 'Y'], ['C', 'X'], ['A', 'X'], ['B', 'X'], ['B', 'Y'], ['C', 'X'], ['B', 'Y'], ['C', 'Z'], ['B', 'Z'], ['A', 'Y'], ['B', 'Y'], ['B', 'Z'], ['B', 'X'], ['A', 'Y'], ['A', 'Y'], ['B', 'Y'], ['A', 'Y'], ['B', 'Z'], ['B', 'Z'], ['B', 'Z'], ['A', 'Y'], ['B', 'Y'], ['B', 'X'], ['B', 'Z'], ['A', 'Z'], ['B', 'Z'], ['A', 'X'], ['C', 'Y'], ['B', 'Z'], ['B', 'Y'], ['C', 'X'], ['B', 'Y'], ['A', 'Z'], ['A', 'Y'], ['B', 'Z'], ['A', 'Y'], ['A', 'Z'], ['A', 'Y'], ['A', 'Y'], ['B', 'X'], ['C', 'X'], ['B', 'Y'], ['B', 'X'], ['B', 'X'], ['C', 'X'], ['A', 'Y'], ['B', 'Y'], ['B', 'Y'], ['A', 'Z'], ['B', 'Z'], ['C', 'X'], ['B', 'Y'], ['B', 'Y'], ['A', 'Y'], ['A', 'Y'], ['B', 'Z'], ['A', 'Y'], ['A', 'X'], ['A', 'X'], ['A', 'Z'], ['B', 'Y'], ['A', 'X'], ['A', 'Y'], ['C', 'Z'], ['A', 'Y'], ['A', 'X'], ['B', 'X'], ['A', 'Y'], ['B', 'Y'], ['A', 'Y'], ['B', 'X'], ['A', 'Y'], ['A', 'Y'], ['A', 'Y'], ['B', 'Y'], ['C', 'X'], ['A', 'Y'], ['A', 'Y'], ['B', 'Z'], ['C', 'X'], ['A', 'X'], ['A', 'Y'], ['A', 'Y'], ['A', 'Y'], ['A', 'Y'], ['C', 'X'], ['A', 'Z'], ['C', 'X'], ['B', 'Y'], ['B', 'Y'], ['A', 'X'], ['C', 'X'], ['B', 'Z'], ['B', 'Y'], ['B', 'Z'], ['A', 'Y'], ['B', 'Y'], ['A', 'Y'], ['B', 'Y'], ['A', 'Y'], ['B', 'Z'], ['C', 'Z'], ['B', 'Z'], ['A', 'Z'], ['A', 'X'], ['A', 'Z'], ['A', 'Y'], ['B', 'Y'], ['B', 'Z'], ['A', 'Y'], ['B', 'Z'], ['A', 'Z'], ['A', 'Y'], ['B', 'Y'], ['B', 'Y'], ['B', 'Z'], ['A', 'Y'], ['A', 'Y'], ['C', 'X'], ['C', 'X'], ['C', 'Z'], ['A', 'Y'], ['B', 'Z'], ['A', 'Y'], ['A', 'X'], ['B', 'Y'], ['A', 'X'], ['B', 'Z'], ['A', 'Y'], ['B', 'Z'], ['B', 'Y'], ['B', 'Y'], ['B', 'Z'], ['A', 'Y'], ['B', 'Y'], ['A', 'Y'], ['B', 'Z'], ['A', 'Y'], ['C', 'X'], ['A', 'X'], ['A', 'Y'], ['B', 'Y'], ['C', 'X'], ['A', 'Y'], ['C', 'Y'], ['B', 'Z'], ['A', 'Y'], ['B', 'Y'], ['A', 'Y'], ['A', 'Y'], ['A', 'Y'], ['A', 'Y'], ['B', 'Z'], ['B', 'Z'], ['A', 'Z'], ['B', 'Z'], ['A', 'X'], ['A', 'X'], ['C', 'X'], ['B', 'X'], ['A', 'Y'], ['A', 'Y'], ['A', 'X'], ['C', 'Z'], ['B', 'Z'], ['A', 'Z'], ['B', 'Y'], ['B', 'Y'], ['A', 'Y'], ['A', 'X'], ['B', 'Z'], ['A', 'Y'], ['A', 'Y'], ['B', 'Y'], ['B', 'Y'], ['B', 'Y'], ['A', 'X'], ['A', 'X'], ['A', 'X'], ['A', 'X'], ['A', 'X'], ['A', 'X'], ['B', 'Y'], ['C', 'X'], ['A', 'Y'], ['C', 'X'], ['A', 'X'], ['B', 'Z'], ['C', 'X'], ['B', 'Y'], ['A', 'X'], ['B', 'Z'], ['A', 'Y'], ['B', 'Y'], ['B', 'Y'], ['B', 'Z'], ['B', 'Y'], ['B', 'X'], ['B', 'Z'], ['C', 'X'], ['C', 'X'], ['A', 'Y'], ['A', 'X'], ['B', 'Z'], ['B', 'Y'], ['B', 'Z'], ['C', 'X'], ['A', 'Y'], ['C', 'Z'], ['C', 'X'], ['C', 'Z'], ['B', 'Y'], ['B', 'Z'], ['B', 'Z'], ['B', 'Y'], ['A', 'Y'], ['B', 'X'], ['A', 'Y'], ['B', 'Y'], ['B', 'Z'], ['B', 'Y'], ['A', 'Y'], ['B', 'Z'], ['A', 'X'], ['B', 'Y'], ['C', 'X'], ['B', 'Y'], ['B', 'Y'], ['B', 'Y'], ['A', 'X'], ['C', 'X'], ['C', 'X'], ['C', 'Z'], ['A', 'Y'], ['A', 'Y'], ['B', 'X'], ['B', 'Z'], ['A', 'X'], ['B', 'Z'], ['A', 'X'], ['B', 'Z'], ['B', 'Z'], ['B', 'Z'], ['B', 'Y'], ['B', 'Y'], ['A', 'Z'], ['C', 'Z'], ['B', 'Z'], ['B', 'Y'], ['B', 'Z'], ['B', 'Z'], ['C', 'X'], ['B', 'Y'], ['C', 'Y'], ['A', 'Y'], ['C', 'X'], ['A', 'Z'], ['B', 'Z'], ['B', 'Z'], ['A', 'X'], ['B', 'Y'], ['A', 'Z'], ['B', 'Y'], ['B', 'Z'], ['A', 'X'], ['C', 'Y'], ['A', 'Y'], ['A', 'Y'], ['B', 'Y'], ['A', 'Y'], ['A', 'X'], ['A', 'Z'], ['B', 'Z'], ['C', 'Z'], ['A', 'Y'], ['B', 'Y'], ['B', 'Z'], ['B', 'Y'], ['B', 'Y'], ['B', 'Z'], ['B', 'X'], ['A', 'X'], ['C', 'X'], ['C', 'X'], ['A', 'Y'], ['A', 'X'], ['A', 'Y'], ['A', 'Y'], ['A', 'Y'], ['A', 'X'], ['B', 'X'], ['C', 'X'], ['B', 'Y'], ['B', 'Z'], ['A', 'X'], ['A', 'Y'], ['B', 'Y'], ['A', 'X'], ['A', 'Y'], ['A', 'Y'], ['A', 'Y'], ['B', 'Y'], ['A', 'Y'], ['B', 'Z'], ['B', 'Y'], ['C', 'Z'], ['A', 'Y'], ['A', 'Z'], ['C', 'X'], ['B', 'Z'], ['B', 'X'], ['C', 'Z'], ['A', 'Y'], ['A', 'Z'], ['A', 'Y'], ['B', 'Z'], ['B', 'Z'], ['C', 'X'], ['B', 'Z'], ['C', 'X'], ['B', 'Y'], ['C', 'X'], ['B', 'Y'], ['A', 'Z'], ['B', 'Y'], ['A', 'Y'], ['C', 'Z'], ['B', 'Y'], ['B', 'Y'], ['B', 'X'], ['B', 'X'], ['A', 'X'], ['B', 'Y'], ['B', 'Y'], ['B', 'Z'], ['A', 'X'], ['B', 'Y'], ['B', 'Z'], ['B', 'Y'], ['B', 'Z'], ['A', 'Y'], ['B', 'Y'], ['B', 'Z'], ['B', 'Y'], ['C', 'Z'], ['A', 'Y'], ['C', 'Y'], ['C', 'Z'], ['A', 'Y'], ['B', 'X'], ['C', 'X'], ['C', 'X'], ['B', 'Z'], ['C', 'X'], ['A', 'Z'], ['C', 'Y'], ['B', 'Z'], ['B', 'Z'], ['C', 'X'], ['C', 'Z'], ['A', 'Y'], ['B', 'X'], ['A', 'Z'], ['C', 'Y'], ['A', 'Y'], ['B', 'Y'], ['B', 'Y'], ['A', 'Y'], ['A', 'Z'], ['B', 'Z'], ['B', 'X'], ['A', 'Y'], ['B', 'X'], ['A', 'Z'], ['B', 'Z'], ['B', 'X'], ['A', 'X'], ['A', 'Y'], ['B', 'Y'], ['B', 'Y'], ['B', 'Z'], ['C', 'X'], ['B', 'Z'], ['B', 'Z'], ['A', 'Y'], ['C', 'Z'], ['B', 'Y'], ['A', 'Y'], ['C', 'Y'], ['B', 'Z'], ['B', 'Z'], ['B', 'Y'], ['A', 'Y'], ['C', 'Z'], ['B', 'Y'], ['B', 'Y'], ['A', 'Y'], ['A', 'Z'], ['B', 'Z'], ['A', 'Y'], ['C', 'Y'], ['A', 'Y'], ['A', 'Y'], ['A', 'Y'], ['A', 'Y'], ['C', 'Y'], ['B', 'Y'], ['B', 'Z'], ['A', 'Y'], ['B', 'Y'], ['A', 'X'], ['B', 'Y'], ['B', 'Z'], ['A', 'Y'], ['B', 'Y'], ['B', 'Y'], ['A', 'Z'], ['B', 'Y'], ['C', 'X'], ['B', 'X'], ['C', 'X'], ['B', 'Y'], ['A', 'X'], ['A', 'Z'], ['B', 'Z'], ['B', 'Z'], ['A', 'Z'], ['A', 'Z'], ['B', 'X'], ['A', 'Z'], ['A', 'X'], ['B', 'Z'], ['B', 'Y'], ['B', 'Y'], ['B', 'Z'], ['B', 'Y'], ['B', 'Y'], ['B', 'Z'], ['B', 'Y'], ['B', 'Y'], ['A', 'Y'], ['B', 'Z'], ['B', 'Y'], ['A', 'Y'], ['A', 'Y'], ['B', 'Y'], ['A', 'Y'], ['A', 'Y'], ['A', 'Y'], ['C', 'Y'], ['B', 'Y'], ['A', 'X'], ['A', 'Y'], ['B', 'Z'], ['B', 'Y'], ['B', 'Y'], ['C', 'Z'], ['A', 'Y'], ['C', 'X'], ['C', 'X'], ['A', 'Z'], ['B', 'Z'], ['B', 'Y'], ['B', 'Z'], ['A', 'X'], ['B', 'Y'], ['A', 'Y'], ['A', 'X'], ['B', 'Y'], ['B', 'Z'], ['B', 'Z'], ['A', 'X'], ['A', 'X'], ['A', 'Y'], ['B', 'Z'], ['A', 'Y'], ['C', 'X'], ['A', 'Y'], ['C', 'X'], ['A', 'Y'], ['C', 'X'], ['B', 'Y'], ['B', 'Z'], ['A', 'Z'], ['C', 'Z'], ['B', 'Y'], ['B', 'Y'], ['B', 'Z'], ['A', 'Y'], ['A', 'Y'], ['C', 'X'], ['B', 'Z'], ['B', 'Z'], ['B', 'Z'], ['A', 'X'], ['A', 'X'], ['B', 'Z'], ['B', 'Y'], ['C', 'Z'], ['A', 'Y'], ['B', 'Y'], ['A', 'X'], ['C', 'Y'], ['B', 'Y'], ['B', 'Y'], ['B', 'Y'], ['B', 'Y'], ['B', 'Z'], ['B', 'Z'], ['A', 'Y'], ['A', 'Y'], ['A', 'Y'], ['B', 'Z'], ['B', 'Z'], ['A', 'X'], ['A', 'Y'], ['C', 'Z'], ['B', 'Z'], ['C', 'Z'], ['A', 'X'], ['C', 'Z'], ['B', 'Z'], ['B', 'Z'], ['A', 'Z'], ['A', 'Z'], ['A', 'Y'], ['A', 'Y'], ['A', 'Y'], ['A', 'X'], ['C', 'X'], ['B', 'Z'], ['A', 'Y'], ['B', 'Y'], ['A', 'X'], ['B', 'Z'], ['B', 'Z'], ['B', 'Y'], ['B', 'Y'], ['B', 'Y'], ['A', 'Y'], ['B', 'Y'], ['C', 'X'], ['A', 'Y'], ['A', 'Y'], ['B', 'Z'], ['B', 'Z'], ['A', 'Z'], ['A', 'Z'], ['A', 'X'], ['B', 'Z'], ['B', 'Z'], ['B', 'Y'], ['C', 'X'], ['C', 'X'], ['A', 'Y'], ['B', 'Y'], ['A', 'X'], ['B', 'Y'], ['B', 'Y'], ['B', 'X'], ['B', 'Y'], ['B', 'Y'], ['B', 'Z'], ['B', 'Y'], ['B', 'Z'], ['B', 'X'], ['A', 'Y'], ['A', 'X'], ['B', 'Y'], ['B', 'Z'], ['A', 'X'], ['A', 'Y'], ['B', 'Z'], ['B', 'Z'], ['B', 'Z'], ['A', 'Y'], ['A', 'Y'], ['B', 'Z'], ['A', 'Y'], ['B', 'Y'], ['B', 'Z'], ['A', 'Y'], ['B', 'Z'], ['A', 'Y'], ['C', 'X'], ['B', 'Y'], ['A', 'X'], ['A', 'Y'], ['B', 'Y'], ['B', 'Y'], ['B', 'Y'], ['B', 'Z'], ['A', 'Y'], ['B', 'Z'], ['A', 'Z'], ['B', 'Z'], ['A', 'Y'], ['B', 'Z'], ['B', 'Z'], ['A', 'Y'], ['B', 'Y'], ['A', 'Z'], ['C', 'X'], ['A', 'Y'], ['A', 'Y'], ['B', 'Z'], ['C', 'Z'], ['B', 'X'], ['B', 'Z'], ['A', 'Y'], ['C', 'Y'], ['B', 'Z'], ['B', 'Y'], ['B', 'Y'], ['A', 'X'], ['B', 'Y'], ['A', 'X'], ['A', 'Y'], ['B', 'Y'], ['A', 'Y'], ['B', 'Z'], ['A', 'Y'], ['A', 'X'], ['C', 'X'], ['A', 'Y'], ['B', 'Z'], ['C', 'Z'], ['A', 'Y'], ['B', 'Y'], ['B', 'Y'], ['B', 'Y'], ['B', 'Y'], ['C', 'X'], ['A', 'Z'], ['B', 'Y'], ['B', 'Z'], ['B', 'X'], ['A', 'Y'], ['B', 'X'], ['A', 'Y'], ['A', 'Y'], ['B', 'Y'], ['A', 'Z'], ['B', 'Y'], ['B', 'Y'], ['C', 'X'], ['C', 'X'], ['B', 'Y'], ['C', 'X'], ['B', 'Y'], ['C', 'Z'], ['C', 'Y'], ['B', 'Y'], ['A', 'X'], ['A', 'Y'], ['C', 'X'], ['B', 'Y'], ['B', 'Z'], ['C', 'X'], ['B', 'Y'], ['A', 'Y'], ['B', 'Y'], ['B', 'Z'], ['A', 'Y'], ['B', 'Z'], ['C', 'X'], ['A', 'Y'], ['B', 'Y'], ['B', 'Z'], ['A', 'Z'], ['B', 'X'], ['B', 'Y'], ['B', 'Z'], ['B', 'Y'], ['A', 'Y'], ['A', 'Y'], ['B', 'X'], ['B', 'Y'], ['B', 'X'], ['B', 'Y'], ['C', 'X'], ['A', 'Y'], ['A', 'X'], ['A', 'Z'], ['A', 'Y'], ['B', 'Z'], ['C', 'Y'], ['C', 'X'], ['B', 'Y'], ['B', 'Z'], ['A', 'Y'], ['B', 'Y'], ['B', 'Z'], ['A', 'Y'], ['A', 'Y'], ['B', 'Y'], ['B', 'Z'], ['B', 'Y'], ['A', 'Y'], ['B', 'X'], ['A', 'X'], ['A', 'Y'], ['B', 'Y'], ['A', 'Y'], ['A', 'Y'], ['A', 'Y'], ['B', 'Y'], ['A', 'Y'], ['B', 'Y'], ['A', 'X'], ['C', 'X'], ['A', 'Y'], ['A', 'Y'], ['B', 'Y'], ['B', 'Y'], ['B', 'Y'], ['C', 'Y'], ['C', 'X'], ['B', 'Z'], ['B', 'X'], ['A', 'Z'], ['B', 'Y'], ['A', 'X'], ['B', 'Y'], ['B', 'Z'], ['B', 'Z'], ['A', 'Y'], ['B', 'Y'], ['A', 'X'], ['B', 'Y'], ['C', 'X'], ['B', 'Z'], ['A', 'X'], ['A', 'Y'], ['B', 'Y'], ['B', 'Z'], ['A', 'Y'], ['B', 'X'], ['A', 'Y'], ['A', 'Y'], ['C', 'Z'], ['C', 'Z'], ['C', 'Y'], ['A', 'Y'], ['B', 'Z'], ['A', 'Y'], ['A', 'X'], ['A', 'Y'], ['A', 'Y'], ['C', 'X'], ['B', 'X'], ['A', 'X'], ['A', 'Y'], ['B', 'Z'], ['B', 'Y'], ['B', 'Z'], ['B', 'Y'], ['C', 'Y'], ['B', 'Z'], ['B', 'Y'], ['B', 'Y'], ['A', 'Y'], ['B', 'Z'], ['B', 'Z'], ['B', 'Y'], ['B', 'Z'], ['B', 'Z'], ['B', 'X'], ['C', 'X'], ['A', 'Y'], ['A', 'Y'], ['B', 'X'], ['C', 'X'], ['B', 'Z'], ['B', 'Y'], ['A', 'Y'], ['B', 'Y'], ['B', 'Z'], ['A', 'Y'], ['B', 'Y'], ['B', 'Y'], ['B', 'Z'], ['A', 'X'], ['B', 'Y'], ['B', 'Z'], ['B', 'Z'], ['A', 'Y'], ['B', 'Z'], ['B', 'Z'], ['B', 'Z'], ['C', 'X'], ['C', 'X'], ['B', 'Z'], ['B', 'Y'], ['B', 'Y'], ['B', 'Z'], ['B', 'X'], ['B', 'Y'], ['C', 'Y'], ['A', 'Y'], ['A', 'X'], ['A', 'Y'], ['A', 'Z'], ['C', 'X'], ['A', 'Z'], ['B', 'Z'], ['A', 'Y'], ['B', 'Y'], ['A', 'Y'], ['B', 'Y'], ['A', 'X'], ['B', 'Y'], ['B', 'X'], ['A', 'X'], ['C', 'Z'], ['A', 'X'], ['A', 'Y'], ['A', 'Y'], ['C', 'Y'], ['B', 'Y'], ['A', 'X'], ['A', 'X'], ['B', 'Y'], ['C', 'Y'], ['B', 'Z'], ['B', 'Z'], ['B', 'Y'], ['A', 'Y'], ['A', 'X'], ['A', 'Y'], ['A', 'Y'], ['A', 'Z'], ['A', 'X'], ['A', 'Y'], ['A', 'Y'], ['A', 'Y'], ['B', 'Z'], ['C', 'X'], ['A', 'X'], ['C', 'X'], ['A', 'Y'], ['A', 'Y'], ['B', 'Y'], ['B', 'Y'], ['A', 'X'], ['B', 'Y'], ['C', 'Y'], ['B', 'Y'], ['A', 'Z'], ['B', 'Y'], ['B', 'Z'], ['C', 'X'], ['A', 'X'], ['B', 'Y'], ['A', 'Z'], ['B', 'Z'], ['B', 'Y'], ['B', 'Y'], ['B', 'Y'], ['B', 'Z'], ['B', 'Y'], ['B', 'Y'], ['B', 'Y'], ['A', 'X'], ['A', 'Y'], ['B', 'Z'], ['C', 'X'], ['A', 'Y'], ['A', 'Y'], ['B', 'Y'], ['B', 'Z'], ['C', 'X'], ['A', 'X'], ['A', 'Y'], ['B', 'X'], ['B', 'Y'], ['A', 'Y'], ['A', 'Z'], ['A', 'X'], ['A', 'Z'], ['A', 'Y'], ['C', 'Z'], ['A', 'Y'], ['B', 'Y'], ['B', 'Y'], ['B', 'Z'], ['C', 'X'], ['B', 'Z'], ['A', 'Z'], ['B', 'Y'], ['B', 'Z'], ['B', 'Y'], ['A', 'Y'], ['A', 'Y'], ['C', 'Z'], ['A', 'Y'], ['B', 'Z'], ['B', 'Y'], ['B', 'Y'], ['A', 'X'], ['B', 'Y'], ['A', 'Y'], ['B', 'Y'], ['A', 'Y'], ['A', 'Y'], ['C', 'X'], ['A', 'Y'], ['B', 'Y'], ['A', 'Y'], ['C', 'X'], ['B', 'X'], ['A', 'Y'], ['B', 'Z'], ['A', 'Y'], ['A', 'Y'], ['C', 'Z']]\n"
          ]
        }
      ]
    },
    {
      "cell_type": "code",
      "source": [
        "# Part I\n",
        "score = 0\n",
        "for round in rounds:\n",
        "  if round[1] == 'X':\n",
        "    score += 1\n",
        "    if round[0] == 'A':\n",
        "      score += 3\n",
        "    elif round[0] == 'C':\n",
        "      score += 6\n",
        "  if round[1] == 'Y':\n",
        "    score += 2\n",
        "    if round[0] == 'B':\n",
        "      score += 3\n",
        "    elif round[0] == 'A':\n",
        "      score += 6\n",
        "  if round[1] == 'Z':\n",
        "    score += 3\n",
        "    if round[0] == 'C':\n",
        "      score += 3\n",
        "    elif round[0] == 'B':\n",
        "      score += 6\n",
        "print(score)"
      ],
      "metadata": {
        "colab": {
          "base_uri": "https://localhost:8080/"
        },
        "id": "iRqRXLcFPqo6",
        "outputId": "f581bca5-7117-4055-847a-205fac5a1be8"
      },
      "execution_count": null,
      "outputs": [
        {
          "output_type": "stream",
          "name": "stdout",
          "text": [
            "15691\n"
          ]
        }
      ]
    },
    {
      "cell_type": "code",
      "source": [
        "# Part II\n",
        "score = 0\n",
        "for round in rounds:\n",
        "  if round[1] == 'X':\n",
        "    if round[0] == 'A':\n",
        "      score += 3\n",
        "    elif round[0] == 'B':\n",
        "      score += 1\n",
        "    elif round[0] == 'C':\n",
        "      score += 2\n",
        "  if round[1] == 'Y':\n",
        "    score += 3\n",
        "    if round[0] == 'A':\n",
        "      score += 1\n",
        "    elif round[0] == 'B':\n",
        "      score += 2\n",
        "    elif round[0] == 'C':\n",
        "      score += 3\n",
        "  if round[1] == 'Z':\n",
        "    score += 6\n",
        "    if round[0] == 'A':\n",
        "      score += 2\n",
        "    elif round[0] == 'B':\n",
        "      score += 3\n",
        "    elif round[0] == 'C':\n",
        "      score += 1\n",
        "print(score)"
      ],
      "metadata": {
        "colab": {
          "base_uri": "https://localhost:8080/"
        },
        "id": "rSpq2IA8RSZ3",
        "outputId": "8911dd53-1563-47bd-fa6f-28660b6b4dc9"
      },
      "execution_count": null,
      "outputs": [
        {
          "output_type": "stream",
          "name": "stdout",
          "text": [
            "12989\n"
          ]
        }
      ]
    }
  ]
}